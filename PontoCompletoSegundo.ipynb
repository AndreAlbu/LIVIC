{
 "cells": [
  {
   "cell_type": "markdown",
   "metadata": {},
   "source": [
    "# Importação das bibliotecas"
   ]
  },
  {
   "cell_type": "code",
   "execution_count": 1,
   "metadata": {},
   "outputs": [],
   "source": [
    "import cv2 as cv\n",
    "import numpy as np\n",
    "from matplotlib import pyplot as plt\n",
    "%matplotlib inline\n",
    "import time"
   ]
  },
  {
   "cell_type": "markdown",
   "metadata": {},
   "source": [
    "## Variaveis e caminhos"
   ]
  },
  {
   "cell_type": "code",
   "execution_count": 2,
   "metadata": {},
   "outputs": [],
   "source": [
    "idImagem = \"9\"\n",
    "\n",
    "IMAGEM_CAPTURADA_SEGMENTADA = \"caixas\"            + idImagem + \".jpg\"\n",
    "IMAGEM_CAPTURADA_NORMAL =     \"normal\"            + idImagem + \".jpg\"\n",
    "IMAGEM_CORTADA_PEDUNCULO =    \"pedunculoCortado\"  + idImagem + \".png\"\n",
    "PEDUNCULO_HSV =               \"pedunculoHSV\"      + idImagem + \".png\"\n",
    "PEDUNCULO_BGR =               \"pedunculoBGR\"      + idImagem + \".png\""
   ]
  },
  {
   "cell_type": "markdown",
   "metadata": {},
   "source": [
    "### Mostra imagem"
   ]
  },
  {
   "cell_type": "code",
   "execution_count": 3,
   "metadata": {},
   "outputs": [],
   "source": [
    "def mostraImagem(imagemUso, titulo):\n",
    "\n",
    "    fig = plt.figure(figsize = (5, 8))\n",
    "    plt.title(titulo)\n",
    "    plt.imshow(imagemUso)\n",
    "    plt.show()"
   ]
  },
  {
   "cell_type": "markdown",
   "metadata": {},
   "source": [
    "# Imagem Pré-Processada"
   ]
  },
  {
   "cell_type": "markdown",
   "metadata": {},
   "source": [
    "Encontra a região de corte - trabalha apenas com a fruta"
   ]
  },
  {
   "cell_type": "code",
   "execution_count": 4,
   "metadata": {},
   "outputs": [],
   "source": [
    "imgPreProcessada = cv.imread(IMAGEM_CAPTURADA_SEGMENTADA) #Leitura da imagem de entrada, imagem deve ser pré-processada - Real Time Object Detection\n",
    "gray = cv.cvtColor(imgPreProcessada, cv.COLOR_BGR2GRAY) #Converte a imagem para tons de cinza"
   ]
  },
  {
   "cell_type": "code",
   "execution_count": 5,
   "metadata": {
    "scrolled": false
   },
   "outputs": [],
   "source": [
    "todas_coordenadas = [] #Guarda as coordenadas do eixo X e Y vindas dos cantos encontrados\n",
    "\n",
    "cornersPedunculo = cv.goodFeaturesToTrack(gray, 4, 0.6, 0.2) #Função responsavel por encontrar os cantos Harrys\n",
    "\n",
    "for item in cornersPedunculo:\n",
    "    \n",
    "    x,y = item[0]\n",
    "    \n",
    "    todas_coordenadas.append([x,y])\n",
    "    #cv.circle(imgPreProcessada, (int(x),int(y)), 4, (0,0,255))\n",
    "    \n",
    "#mostraImagem(imgPreProcessada, \"CAIXA SEGMENTADA\")"
   ]
  },
  {
   "cell_type": "code",
   "execution_count": 6,
   "metadata": {},
   "outputs": [],
   "source": [
    "todas_coordenadas.sort() #Ordena as coordenadas em ordem crescente\n",
    "\n",
    "\n",
    "#Ultiza-se apenas a primeira coordenada e a ultima\n",
    "xt = todas_coordenadas[0][0]\n",
    "yt = todas_coordenadas[0][1]\n",
    "\n",
    "xb = todas_coordenadas[3][0]\n",
    "yb = todas_coordenadas[3][1]\n",
    "\n",
    "#print(xt, yt)\n",
    "#print(xb, yb)\n"
   ]
  },
  {
   "cell_type": "code",
   "execution_count": 7,
   "metadata": {},
   "outputs": [],
   "source": [
    "#Regiao de interesse\n",
    "\n",
    "Lmax = abs(xt - xb)\n",
    "Hmax = abs(yt - yb)\n",
    "\n",
    "RoiL = 0.5 * Lmax\n",
    "RoiH = 0.5 * Hmax"
   ]
  },
  {
   "cell_type": "code",
   "execution_count": 8,
   "metadata": {},
   "outputs": [
    {
     "data": {
      "image/png": "[encoded data removed]",
      "text/plain": [
       "<Figure size 360x576 with 1 Axes>"
      ]
     },
     "metadata": {
      "needs_background": "light"
     },
     "output_type": "display_data"
    }
   ],
   "source": [
    "#Area de corte da imagem\n",
    "\n",
    "#Esses coordenadas são as que vão delimitar a area onde a imagem vai ser cortada\n",
    "\n",
    "centro = (xb + xt) / 2\n",
    "\n",
    "centroCaixa = RoiL / 2\n",
    "\n",
    "x1 = centro - centroCaixa\n",
    "x2 = centro + centroCaixa\n",
    "\n",
    "y1 = abs(yt - 5)\n",
    "y2 = abs(RoiH - y1)\n",
    "\n",
    "x1 = int(x1)\n",
    "y1 = int(y1)\n",
    "x2 = int(x2)\n",
    "y2 = int(y2)\n",
    "\n",
    "TopLeftY = y2\n",
    "TopLeftX = x1\n",
    "\n",
    "cv.rectangle(imgPreProcessada, (x2, y2), (x1,y1), (255,255,0), 1)\n",
    "\n",
    "mostraImagem(imgPreProcessada, \"AREA DE CORTE\")\n"
   ]
  },
  {
   "cell_type": "markdown",
   "metadata": {},
   "source": [
    "# Imagem Sem Processamento"
   ]
  },
  {
   "cell_type": "markdown",
   "metadata": {},
   "source": [
    "Corte"
   ]
  },
  {
   "cell_type": "code",
   "execution_count": 9,
   "metadata": {},
   "outputs": [],
   "source": [
    "img = cv.imread(IMAGEM_CAPTURADA_NORMAL) #Leitura da imagem de entrada, imagem deve ser sem processamento - Real Time Object Detection"
   ]
  },
  {
   "cell_type": "code",
   "execution_count": 10,
   "metadata": {},
   "outputs": [
    {
     "data": {
      "text/plain": [
       "True"
      ]
     },
     "execution_count": 10,
     "metadata": {},
     "output_type": "execute_result"
    }
   ],
   "source": [
    "crop = img[y2:y1, x1:x2] #Realiza o corte da imagem\n",
    "cv.imwrite(IMAGEM_CORTADA_PEDUNCULO, crop) #Salva a imagem cortada"
   ]
  },
  {
   "cell_type": "markdown",
   "metadata": {},
   "source": [
    "## Segmentação do pedúnculo"
   ]
  },
  {
   "cell_type": "markdown",
   "metadata": {},
   "source": [
    "Primeira Segementação - HSV"
   ]
  },
  {
   "cell_type": "code",
   "execution_count": 11,
   "metadata": {},
   "outputs": [
    {
     "data": {
      "image/png": "[encoded data removed]",
      "text/plain": [
       "<Figure size 360x576 with 1 Axes>"
      ]
     },
     "metadata": {
      "needs_background": "light"
     },
     "output_type": "display_data"
    }
   ],
   "source": [
    "#Ultimo cenario de teste \n",
    "#baixo = np.array([5, 100, 18])\n",
    "#alto = np.array([31, 248, 74])\n",
    "\n",
    "#Teste anterior \n",
    "#baixo = np.array([[0, 30, 0]])\n",
    "#alto = np.array([179, 255, 255])\n",
    "\n",
    "#Para testes (editavel)\n",
    "baixo = np.array([10,53,61])\n",
    "alto = np.array([24,137,110])\n",
    "\n",
    "\n",
    "#Padrão (sera usado com as leituras do txt)\n",
    "#baixo = np.array([hMin, sMin, vMin])\n",
    "#alto = np.array([hMax, sMax, vMax])\n",
    "\n",
    "imgPedunculo = [IMAGEM_CORTADA_PEDUNCULO]\n",
    "\n",
    "for pedunculo in imgPedunculo:\n",
    "    \n",
    "    img = cv.imread(pedunculo)\n",
    "    \n",
    "    img_hsv = cv.cvtColor(img, cv.COLOR_BGR2HSV)\n",
    "    \n",
    "    mask = cv.inRange(img_hsv, baixo, alto)\n",
    "    \n",
    "    img_seg = cv.bitwise_and(img, img, mask = mask)\n",
    "    \n",
    "cv.imwrite(PEDUNCULO_HSV, img_seg)\n",
    "    \n",
    "mostraImagem(img_seg, \"IMAGEM SEGMENTADA POR HSV\")"
   ]
  },
  {
   "cell_type": "markdown",
   "metadata": {},
   "source": [
    "Segunda Segmentação - BGR"
   ]
  },
  {
   "cell_type": "code",
   "execution_count": 12,
   "metadata": {},
   "outputs": [
    {
     "data": {
      "image/png": "[encoded data removed]",
      "text/plain": [
       "<Figure size 360x576 with 1 Axes>"
      ]
     },
     "metadata": {
      "needs_background": "light"
     },
     "output_type": "display_data"
    }
   ],
   "source": [
    "imgHSV = cv.imread(PEDUNCULO_HSV)\n",
    "\n",
    "largura = imgHSV.shape[1]\n",
    "altura  = imgHSV.shape[0]\n",
    "\n",
    "imgBGR = cv.resize(imgHSV, (largura, altura))\n",
    "\n",
    "height, width, canalCor = imgBGR.shape\n",
    "\n",
    "base = [20,20,15]\n",
    "fraca = [35,55,60]\n",
    "forte = [70, 70, 100]\n",
    "preto = [0, 0, 0]\n",
    "\n",
    "for x in range(0, width):\n",
    "\n",
    "    for y in range(0, height):\n",
    "\n",
    "        canalXY = imgBGR[y,x]\n",
    "\n",
    "        if all(canalXY <= base):\n",
    "\n",
    "            imgBGR[y,x] = preto\n",
    "\n",
    "        elif all(canalXY > fraca):\n",
    "\n",
    "            imgBGR[y,x] = preto\n",
    "\n",
    "\n",
    "cv.imwrite(PEDUNCULO_BGR, imgBGR)\n",
    "\n",
    "mostraImagem(imgBGR, \"IMAGEM SEGMENTADA POR BGR\")\n",
    "#print(largura, altura)"
   ]
  },
  {
   "cell_type": "markdown",
   "metadata": {},
   "source": [
    "## Encontra ponto - trabalhar apenas com o pedúnculo"
   ]
  },
  {
   "cell_type": "code",
   "execution_count": 13,
   "metadata": {},
   "outputs": [],
   "source": [
    "imgSegBGR = cv.imread(PEDUNCULO_BGR) #Leitura da imagem de entrada, imagem encontrada anteriormente - imagem cortada\n",
    "gray = cv.cvtColor(imgSegBGR, cv.COLOR_BGR2GRAY) #Converte a imagem para tons de cinza"
   ]
  },
  {
   "cell_type": "code",
   "execution_count": 14,
   "metadata": {},
   "outputs": [
    {
     "ename": "TypeError",
     "evalue": "'NoneType' object is not iterable",
     "output_type": "error",
     "traceback": [
      "\u001b[0;31m---------------------------------------------------------------------------\u001b[0m",
      "\u001b[0;31mTypeError\u001b[0m                                 Traceback (most recent call last)",
      "\u001b[0;32m<ipython-input-14-f1951f2cfaca>\u001b[0m in \u001b[0;36m<module>\u001b[0;34m\u001b[0m\n\u001b[1;32m      5\u001b[0m \u001b[0mcornersPonto\u001b[0m \u001b[0;34m=\u001b[0m \u001b[0mcv\u001b[0m\u001b[0;34m.\u001b[0m\u001b[0mgoodFeaturesToTrack\u001b[0m\u001b[0;34m(\u001b[0m\u001b[0mgray\u001b[0m\u001b[0;34m,\u001b[0m \u001b[0;36m20\u001b[0m\u001b[0;34m,\u001b[0m \u001b[0;36m0.2\u001b[0m\u001b[0;34m,\u001b[0m \u001b[0;36m0.25\u001b[0m\u001b[0;34m)\u001b[0m \u001b[0;31m#Função responsavel por encontrar os cantos Harrys\u001b[0m\u001b[0;34m\u001b[0m\u001b[0;34m\u001b[0m\u001b[0m\n\u001b[1;32m      6\u001b[0m \u001b[0;34m\u001b[0m\u001b[0m\n\u001b[0;32m----> 7\u001b[0;31m \u001b[0;32mfor\u001b[0m \u001b[0mitem\u001b[0m \u001b[0;32min\u001b[0m \u001b[0mcornersPonto\u001b[0m\u001b[0;34m:\u001b[0m\u001b[0;34m\u001b[0m\u001b[0;34m\u001b[0m\u001b[0m\n\u001b[0m\u001b[1;32m      8\u001b[0m \u001b[0;34m\u001b[0m\u001b[0m\n\u001b[1;32m      9\u001b[0m     \u001b[0mx\u001b[0m\u001b[0;34m,\u001b[0m\u001b[0my\u001b[0m \u001b[0;34m=\u001b[0m \u001b[0mitem\u001b[0m\u001b[0;34m[\u001b[0m\u001b[0;36m0\u001b[0m\u001b[0;34m]\u001b[0m\u001b[0;34m\u001b[0m\u001b[0;34m\u001b[0m\u001b[0m\n",
      "\u001b[0;31mTypeError\u001b[0m: 'NoneType' object is not iterable"
     ]
    }
   ],
   "source": [
    "todas_coordenadas = [] \n",
    "todas_coordenadasX = [] #Guarda as coordenadas do eixo X vindas dos cantos encontrados\n",
    "todas_coordenadasY = [] #Guarda as coordenadas do eixo Y vindas dos cantos encontrados\n",
    "\n",
    "cornersPonto = cv.goodFeaturesToTrack(gray, 20, 0.2, 0.25) #Função responsavel por encontrar os cantos Harrys\n",
    "\n",
    "for item in cornersPonto:\n",
    "    \n",
    "    x,y = item[0]\n",
    "    \n",
    "    todas_coordenadas.append((x,y))\n",
    "    todas_coordenadasX.append(int(x))\n",
    "    todas_coordenadasY.append(int(y))\n",
    "    #cv.circle(imgSegBGR, (int(x),int(y)), 1, (0,0,255))\n",
    "    \n",
    "mostraImagem(imgSegBGR, \"CANTOS ENCONTRADOS\")"
   ]
  },
  {
   "cell_type": "code",
   "execution_count": null,
   "metadata": {
    "scrolled": true
   },
   "outputs": [],
   "source": [
    "#print(todas_coordenadasX)\n",
    "#print(todas_coordenadasY)\n",
    "#print(todas_coordenadas)"
   ]
  },
  {
   "cell_type": "markdown",
   "metadata": {},
   "source": [
    "## Função encontra ponto de partida"
   ]
  },
  {
   "cell_type": "code",
   "execution_count": null,
   "metadata": {},
   "outputs": [],
   "source": [
    "#Funções\n",
    "\n",
    "#Calcula o peso das coordenadas\n",
    "\n",
    "def calculaPesoY(a):\n",
    "    \n",
    "    calPeso = (a[0] * a[0]) + (a[1] * a[1])\n",
    "    \n",
    "    calPeso = np.sqrt(calPeso)\n",
    "    \n",
    "    calPeso = int(calPeso)\n",
    "    \n",
    "    return calPeso\n",
    "\n",
    "def calculaPesoX(a, centro):\n",
    "    \n",
    "    if(a[0] < centro):\n",
    "        \n",
    "        dif = (centro - a[0])\n",
    "        \n",
    "        soma = a[0] + dif\n",
    "        \n",
    "    else:\n",
    "        \n",
    "        soma = a[0]\n",
    "        \n",
    "    calPeso = (soma * soma) + (a[1] * a[1])\n",
    "    \n",
    "    calPeso = np.sqrt(calPeso)\n",
    "    \n",
    "    calPeso = int(calPeso)\n",
    "    \n",
    "    return calPeso\n",
    "\n",
    "\n",
    "\n",
    "#Faz a combinação entre a coordenadas e os pesos\n",
    "\n",
    "def combinacao(peso: list, todas_coordenadasN: list) -> list:\n",
    "    \n",
    "    assert len(peso) == len(todas_coordenadasN)\n",
    " \n",
    "    n = len(peso)\n",
    "    \n",
    "    combi = []\n",
    " \n",
    "    for i in range(n):\n",
    "        \n",
    "        combi.append((peso[i], todas_coordenadasN[i]))\n",
    " \n",
    "    return combi\n",
    "\n",
    "#Calcula a media dos pontos\n",
    "\n",
    "def calculaMedia(m):\n",
    "    \n",
    "    calMedia = (m[0] * m[1])\n",
    "    \n",
    "    calMedia = int(calMedia)\n",
    "    \n",
    "    return calMedia"
   ]
  },
  {
   "cell_type": "code",
   "execution_count": null,
   "metadata": {},
   "outputs": [],
   "source": [
    "pesoY = []\n",
    "pesoX = []\n",
    "mediaX = []\n",
    "mediaY = []\n",
    "centro = imgBGR.shape[0] / 2\n",
    "margem = imgBGR.shape[1] - 5\n",
    "centroY = imgBGR.shape[1] / 2\n",
    "\n",
    "centroY = int(centroY)\n",
    "\n",
    "centro = int(centro)\n",
    "\n",
    "#Calcula o peso de Y\n",
    "for i in todas_coordenadas:\n",
    "    \n",
    "    aux = calculaPesoY(i)\n",
    "    \n",
    "    pesoY.append(aux)\n",
    "    \n",
    "#Calcula o peso de X\n",
    "for i in todas_coordenadas:\n",
    "    \n",
    "    aux = calculaPesoX(i, centro)\n",
    "    \n",
    "    pesoX.append(aux)\n",
    "    \n",
    "#Somatorio do peso Y\n",
    "somatorioPesoY = sum(pesoY)\n",
    "\n",
    "#Somatoria do pedo X\n",
    "somatorioPesoX = sum(pesoX)\n",
    "    \n",
    "#Realiza combinação\n",
    "combinacaoX = combinacao(pesoX, todas_coordenadasX)\n",
    "combinacaoY = combinacao(pesoY, todas_coordenadasY)\n",
    "\n",
    "#Calcula a media dos pontos X\n",
    "for i in combinacaoX:\n",
    "    \n",
    "    aux = calculaMedia(i)\n",
    "    \n",
    "    mediaX.append(aux)\n",
    "    \n",
    "#Calcula a media dos pontos Y\n",
    "for i in combinacaoY:\n",
    "    \n",
    "    aux = calculaMedia(i)\n",
    "    \n",
    "    mediaY.append(aux)\n",
    "\n",
    "\n",
    "somatorioX =  sum(mediaX)\n",
    "somatorioY =  sum(mediaY)\n",
    "\n",
    "pontoX = (somatorioX / somatorioPesoX)  \n",
    "pontoY = (somatorioY / somatorioPesoY)\n",
    "\n",
    "pontoX = int(pontoX)\n",
    "pontoY = int(pontoY)\n",
    "\n",
    "print(pontoX, pontoY)"
   ]
  },
  {
   "cell_type": "code",
   "execution_count": null,
   "metadata": {},
   "outputs": [],
   "source": []
  },
  {
   "cell_type": "code",
   "execution_count": null,
   "metadata": {},
   "outputs": [],
   "source": [
    "#pontoX = np.mean(todas_coordenadasX)\n",
    "#pontoY = np.mean(todas_coordenadasY)\n",
    "#pontoX = int(pontoX)\n",
    "#pontoY = int(pontoY)"
   ]
  },
  {
   "cell_type": "code",
   "execution_count": null,
   "metadata": {},
   "outputs": [],
   "source": [
    "pontoPartida = (pontoX, pontoY)\n",
    "#cv.circle(imgSegBGR, (pontoX, pontoY), 1, (0,255,0))\n",
    "    \n",
    "mostraImagem(imgSegBGR, \"PONTO DE PARTIDA\")"
   ]
  },
  {
   "cell_type": "code",
   "execution_count": null,
   "metadata": {},
   "outputs": [],
   "source": [
    "#Funcao que verifica o RGB de cada pixel\n",
    "pend = [9, 30, 32]\n",
    "fora = [40, 40, 40]\n",
    "\n",
    "def marca_ponto(ponto_y, ponto_x):\n",
    "    \n",
    "    controle = 0\n",
    "    \n",
    "    #Verifica se os valores de um determinado pixel é maior que o RGB(100, 120, 40)\n",
    "    \n",
    "    if np.any(imgSegBGR[int(ponto_y), int(ponto_x)] > pend):\n",
    "    \n",
    "        controle = controle + 1\n",
    "        print(1)\n",
    "        \n",
    "    else:\n",
    "        \n",
    "        controle = 0\n",
    "    \n",
    "    if np.any(imgSegBGR[int(ponto_y), int(ponto_x)] < fora):\n",
    "        \n",
    "        controle = controle + 1\n",
    "        print(1)\n",
    "        \n",
    "    else:\n",
    "        \n",
    "        controle = 0\n",
    "        \n",
    "    return controle"
   ]
  },
  {
   "cell_type": "code",
   "execution_count": null,
   "metadata": {},
   "outputs": [],
   "source": [
    "caminhoPontos = []\n",
    "contaBuscas = 0\n",
    "\n",
    "#Ponto maximo dos cantos encontrados \n",
    "pontoMaximoX = max(todas_coordenadasX)\n",
    "pontoMaximoY = max(todas_coordenadasY)\n",
    "#print(pontoMaximoX)\n",
    "print(\"centro\", centro)\n",
    "\n",
    "#A busca é realizada enquanto o ponto não for encontrado, para ser considerado um ponto deve-se está com a faixa de cores válida\n",
    "inicio = time.time()\n",
    "\n",
    "while(True):\n",
    "    \n",
    "    ponto = marca_ponto(int(pontoY), int(pontoX))\n",
    "    \n",
    "    print(pontoY, pontoX)\n",
    "    \n",
    "    if(ponto > 1):\n",
    "        \n",
    "        pontoY, pontoX = pontoY, pontoX\n",
    "        \n",
    "        break\n",
    "        \n",
    "    elif(pontoX > centro):\n",
    "        \n",
    "        pontoY, pontoX = pontoY, centro\n",
    "        \n",
    "    elif(pontoY >= pontoMaximoY):\n",
    "        \n",
    "        pontoY, pontoX = pontoY - 1, pontoX\n",
    "        \n",
    "    elif(pontoY >= margem):\n",
    "        \n",
    "        pontoY = centroY\n",
    "        \n",
    "    else:\n",
    "        \n",
    "        if(pontoX >= centro):\n",
    "            \n",
    "            pontoY, pontoX = pontoY + 1, pontoX - 1\n",
    "            \n",
    "        else:\n",
    "            \n",
    "            pontoY, pontoX = pontoY + 1, pontoX + 1\n",
    "            \n",
    "                \n",
    "    caminhoPontos.append((pontoX, pontoY))  \n",
    "    \n",
    "    contaBuscas = contaBuscas + 1\n",
    "\n",
    "fim = time.time()\n",
    "\n",
    "tempo = fim - inicio\n",
    "        \n",
    "pontoX = int(pontoX)\n",
    "pontoY = int(pontoY)\n",
    "\n",
    "pixel = imgBGR[pontoY, pontoX]\n",
    "print(pixel)"
   ]
  },
  {
   "cell_type": "code",
   "execution_count": null,
   "metadata": {},
   "outputs": [],
   "source": [
    "for item in caminhoPontos:\n",
    "    \n",
    "    x,y = item[0], item[1]\n",
    "    \n",
    "    #cv.circle(imgSegBGR, (x,y), 1, (255,255,255))\n",
    "\n",
    "mostraImagem(imgSegBGR, \"CAMINHO DE BUSCA\")"
   ]
  },
  {
   "cell_type": "code",
   "execution_count": null,
   "metadata": {},
   "outputs": [],
   "source": [
    "acuracia = pixel - pend\n",
    "print(acuracia)"
   ]
  },
  {
   "cell_type": "markdown",
   "metadata": {},
   "source": [
    "## Imagem de saída com o ponto encontrado"
   ]
  },
  {
   "cell_type": "code",
   "execution_count": null,
   "metadata": {},
   "outputs": [],
   "source": [
    "cv.circle(imgSegBGR, (pontoX,pontoY), 1, (255,0,0))\n",
    "\n",
    "mostraImagem(imgSegBGR, \"PONTO FINAL\")"
   ]
  },
  {
   "cell_type": "code",
   "execution_count": null,
   "metadata": {},
   "outputs": [],
   "source": [
    "img = cv.imread(IMAGEM_CAPTURADA_NORMAL)\n",
    "\n",
    "PontoFinalX = TopLeftX + pontoX\n",
    "PontoFinalY = TopLeftY + pontoY\n",
    "\n",
    "cv.circle(img, (PontoFinalX, PontoFinalY), 1, (255,255,255))\n",
    "\n",
    "cv.imwrite(\"pedunculoEncontradoAritimetica\" + idImagem + \".jpg\", img)\n",
    "\n",
    "fig = plt.figure(figsize = (20,8))\n",
    "plt.imshow(img)\n",
    "plt.show()"
   ]
  },
  {
   "cell_type": "code",
   "execution_count": null,
   "metadata": {},
   "outputs": [],
   "source": [
    "print(\"Coordenada de partida x,y: {}\".format(pontoPartida))\n",
    "print(\"A quantidade de busca foram: {}\".format(contaBuscas))\n",
    "print(\"O tempo de busca foi: {}\".format(tempo))\n",
    "print(\"As coordenadas pedunculo foram x,y: ({},{})\".format(pontoX, pontoY))\n",
    "print(\"As coordenadas finais são: x,y: ({},{})\".format(PontoFinalX, PontoFinalY))"
   ]
  },
  {
   "cell_type": "code",
   "execution_count": null,
   "metadata": {},
   "outputs": [],
   "source": [
    "imgComp = cv.imread(PEDUNCULO_BGR)\n",
    "\n",
    "mostraImagem(imgComp, \"Método Centro\")"
   ]
  },
  {
   "cell_type": "code",
   "execution_count": null,
   "metadata": {},
   "outputs": [],
   "source": [
    "altura = imgComp.shape[0] / 2\n",
    "largura = imgComp.shape[1] / 2\n",
    "\n",
    "altura = int(altura)\n",
    "largura = int(largura)"
   ]
  },
  {
   "cell_type": "code",
   "execution_count": null,
   "metadata": {},
   "outputs": [],
   "source": [
    "cv.circle(imgComp, (altura, largura), 2, (255, 0, 0))\n",
    "mostraImagem(imgComp, \"Método Centro\")"
   ]
  },
  {
   "cell_type": "code",
   "execution_count": null,
   "metadata": {},
   "outputs": [],
   "source": []
  }
 ],
 "metadata": {
  "kernelspec": {
   "display_name": "Python 3",
   "language": "python",
   "name": "python3"
  },
  "language_info": {
   "codemirror_mode": {
    "name": "ipython",
    "version": 3
   },
   "file_extension": ".py",
   "mimetype": "text/x-python",
   "name": "python",
   "nbconvert_exporter": "python",
   "pygments_lexer": "ipython3",
   "version": "3.8.5"
  }
 },
 "nbformat": 4,
 "nbformat_minor": 4
}
