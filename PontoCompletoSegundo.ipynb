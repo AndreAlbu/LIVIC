{
 "cells": [
  {
   "cell_type": "markdown",
   "metadata": {},
   "source": [
    "# Importação das bibliotecas"
   ]
  },
  {
   "cell_type": "code",
   "execution_count": 1,
   "metadata": {},
   "outputs": [],
   "source": [
    "import cv2 as cv\n",
    "import numpy as np\n",
    "from matplotlib import pyplot as plt\n",
    "%matplotlib inline\n",
    "import time"
   ]
  },
  {
   "cell_type": "markdown",
   "metadata": {},
   "source": [
    "## Variaveis e caminhos"
   ]
  },
  {
   "cell_type": "code",
   "execution_count": 2,
   "metadata": {},
   "outputs": [],
   "source": [
    "idImagem = \"9\"\n",
    "fruta    = \"limao\"\n",
    "\n",
    "IMAGEM_CAPTURADA_SEGMENTADA = \"caixas\"            + idImagem + \".jpg\"\n",
    "IMAGEM_CAPTURADA_NORMAL =     \"normal\"            + idImagem + \".jpg\"\n",
    "IMAGEM_CORTADA_PEDUNCULO =    \"pedunculoCortado\"  + idImagem + \".png\"\n",
    "PEDUNCULO_HSV =               \"pedunculoHSV\"      + idImagem + \".png\"\n",
    "PEDUNCULO_BGR =               \"pedunculoBGR\"      + idImagem + \".png\""
   ]
  },
  {
   "cell_type": "markdown",
   "metadata": {},
   "source": [
    "### Mostra imagem"
   ]
  },
  {
   "cell_type": "code",
   "execution_count": 3,
   "metadata": {},
   "outputs": [],
   "source": [
    "def mostraImagem(imagemUso, titulo):\n",
    "\n",
    "    fig = plt.figure(figsize = (5, 8))\n",
    "    plt.title(titulo)\n",
    "    plt.imshow(imagemUso)\n",
    "    plt.show()"
   ]
  },
  {
   "cell_type": "markdown",
   "metadata": {},
   "source": [
    "## Calibração HSV"
   ]
  },
  {
   "cell_type": "code",
   "execution_count": 4,
   "metadata": {},
   "outputs": [],
   "source": [
    "with open(\"Calibracao/calibracao_hsv_\" + fruta + \".txt\") as hsv:\n",
    "    \n",
    "    parametros = hsv.readlines()\n",
    "          \n",
    "    hMin = int(parametros[0])\n",
    "    sMin = int(parametros[1])\n",
    "    vMin = int(parametros[2])\n",
    "        \n",
    "    hMax = int(parametros[3])\n",
    "    sMax = int(parametros[4])\n",
    "    vMax = int(parametros[5])\n",
    "    \n"
   ]
  },
  {
   "cell_type": "markdown",
   "metadata": {},
   "source": [
    "# Imagem Pré-Processada"
   ]
  },
  {
   "cell_type": "markdown",
   "metadata": {},
   "source": [
    "Encontra a região de corte - trabalha apenas com a fruta"
   ]
  },
  {
   "cell_type": "code",
   "execution_count": 5,
   "metadata": {},
   "outputs": [],
   "source": [
    "imgPreProcessada = cv.imread(IMAGEM_CAPTURADA_SEGMENTADA) #Leitura da imagem de entrada, imagem deve ser pré-processada - Real Time Object Detection\n",
    "gray = cv.cvtColor(imgPreProcessada, cv.COLOR_BGR2GRAY) #Converte a imagem para tons de cinza"
   ]
  },
  {
   "cell_type": "code",
   "execution_count": 6,
   "metadata": {
    "scrolled": false
   },
   "outputs": [],
   "source": [
    "todas_coordenadas = [] #Guarda as coordenadas do eixo X e Y vindas dos cantos encontrados\n",
    "\n",
    "cornersPedunculo = cv.goodFeaturesToTrack(gray, 4, 0.6, 0.2) #Função responsavel por encontrar os cantos Harrys\n",
    "\n",
    "for item in cornersPedunculo:\n",
    "    \n",
    "    x,y = item[0]\n",
    "    \n",
    "    todas_coordenadas.append([x,y])\n",
    "    #cv.circle(imgPreProcessada, (int(x),int(y)), 4, (0,0,255))\n",
    "    \n",
    "#mostraImagem(imgPreProcessada, \"CAIXA SEGMENTADA\")"
   ]
  },
  {
   "cell_type": "code",
   "execution_count": 7,
   "metadata": {},
   "outputs": [],
   "source": [
    "todas_coordenadas.sort() #Ordena as coordenadas em ordem crescente\n",
    "\n",
    "\n",
    "#Ultiza-se apenas a primeira coordenada e a ultima\n",
    "xt = todas_coordenadas[0][0]\n",
    "yt = todas_coordenadas[0][1]\n",
    "\n",
    "xb = todas_coordenadas[3][0]\n",
    "yb = todas_coordenadas[3][1]\n",
    "\n",
    "#print(xt, yt)\n",
    "#print(xb, yb)\n"
   ]
  },
  {
   "cell_type": "code",
   "execution_count": 8,
   "metadata": {},
   "outputs": [],
   "source": [
    "#Regiao de interesse\n",
    "\n",
    "Lmax = abs(xt - xb)\n",
    "Hmax = abs(yt - yb)\n",
    "\n",
    "RoiL = 0.5 * Lmax\n",
    "RoiH = 0.5 * Hmax"
   ]
  },
  {
   "cell_type": "code",
   "execution_count": 9,
   "metadata": {},
   "outputs": [
    {
     "data": {
      "image/png": "[encoded data removed]",
      "text/plain": [
       "<Figure size 360x576 with 1 Axes>"
      ]
     },
     "metadata": {
      "needs_background": "light"
     },
     "output_type": "display_data"
    }
   ],
   "source": [
    "#Area de corte da imagem\n",
    "\n",
    "#Esses coordenadas são as que vão delimitar a area onde a imagem vai ser cortada\n",
    "\n",
    "centro = (xb + xt) / 2\n",
    "\n",
    "centroCaixa = RoiL / 2\n",
    "\n",
    "x1 = centro - centroCaixa\n",
    "x2 = centro + centroCaixa\n",
    "\n",
    "y1 = abs(yt - 5)\n",
    "y2 = abs(RoiH - y1)\n",
    "\n",
    "x1 = int(x1)\n",
    "y1 = int(y1)\n",
    "x2 = int(x2)\n",
    "y2 = int(y2)\n",
    "\n",
    "TopLeftY = y2\n",
    "TopLeftX = x1\n",
    "\n",
    "cv.rectangle(imgPreProcessada, (x2, y2), (x1,y1), (255,255,0), 1)\n",
    "\n",
    "mostraImagem(imgPreProcessada, \"AREA DE CORTE\")\n"
   ]
  },
  {
   "cell_type": "markdown",
   "metadata": {},
   "source": [
    "# Imagem Sem Processamento"
   ]
  },
  {
   "cell_type": "markdown",
   "metadata": {},
   "source": [
    "Corte"
   ]
  },
  {
   "cell_type": "code",
   "execution_count": 10,
   "metadata": {},
   "outputs": [],
   "source": [
    "img = cv.imread(IMAGEM_CAPTURADA_NORMAL) #Leitura da imagem de entrada, imagem deve ser sem processamento - Real Time Object Detection"
   ]
  },
  {
   "cell_type": "code",
   "execution_count": 11,
   "metadata": {},
   "outputs": [
    {
     "data": {
      "text/plain": [
       "True"
      ]
     },
     "execution_count": 11,
     "metadata": {},
     "output_type": "execute_result"
    }
   ],
   "source": [
    "crop = img[y2:y1, x1:x2] #Realiza o corte da imagem\n",
    "cv.imwrite(IMAGEM_CORTADA_PEDUNCULO, crop) #Salva a imagem cortada"
   ]
  },
  {
   "cell_type": "markdown",
   "metadata": {},
   "source": [
    "## Segmentação do pedúnculo"
   ]
  },
  {
   "cell_type": "markdown",
   "metadata": {},
   "source": [
    "Primeira Segementação - HSV"
   ]
  },
  {
   "cell_type": "code",
   "execution_count": 12,
   "metadata": {},
   "outputs": [
    {
     "data": {
      "image/png": "[encoded data removed]",
      "text/plain": [
       "<Figure size 360x576 with 1 Axes>"
      ]
     },
     "metadata": {
      "needs_background": "light"
     },
     "output_type": "display_data"
    }
   ],
   "source": [
    "#Ultimo cenario de teste \n",
    "#baixo = np.array([5, 100, 18])\n",
    "#alto = np.array([31, 248, 74])\n",
    "\n",
    "#Teste anterior \n",
    "#baixo = np.array([[0, 30, 0]])\n",
    "#alto = np.array([179, 255, 255])\n",
    "\n",
    "#Para testes (editavel)\n",
    "#baixo = np.array([10,53,61])\n",
    "#alto = np.array([24,137,110])\n",
    "\n",
    "\n",
    "#Padrão (sera usado com as leituras do txt)\n",
    "baixo = np.array([[hMin, sMin, vMin]])\n",
    "alto =  np.array([hMax, sMax, vMax])\n",
    "\n",
    "imgPedunculo = [IMAGEM_CORTADA_PEDUNCULO]\n",
    "\n",
    "for pedunculo in imgPedunculo:\n",
    "    \n",
    "    img = cv.imread(pedunculo)\n",
    "    \n",
    "    img_hsv = cv.cvtColor(img, cv.COLOR_BGR2HSV)\n",
    "    \n",
    "    mask = cv.inRange(img_hsv, baixo, alto)\n",
    "    \n",
    "    img_seg = cv.bitwise_and(img, img, mask = mask)\n",
    "    \n",
    "cv.imwrite(PEDUNCULO_HSV, img_seg)\n",
    "    \n",
    "mostraImagem(img_seg, \"IMAGEM SEGMENTADA POR HSV\")"
   ]
  },
  {
   "cell_type": "markdown",
   "metadata": {},
   "source": [
    "Segunda Segmentação - BGR"
   ]
  },
  {
   "cell_type": "code",
   "execution_count": 13,
   "metadata": {},
   "outputs": [
    {
     "data": {
      "image/png": "[encoded data removed]",
      "text/plain": [
       "<Figure size 360x576 with 1 Axes>"
      ]
     },
     "metadata": {
      "needs_background": "light"
     },
     "output_type": "display_data"
    }
   ],
   "source": [
    "imgHSV = cv.imread(PEDUNCULO_HSV)\n",
    "\n",
    "largura = imgHSV.shape[1]\n",
    "altura  = imgHSV.shape[0]\n",
    "\n",
    "imgBGR = cv.resize(imgHSV, (largura, altura))\n",
    "\n",
    "height, width, canalCor = imgBGR.shape\n",
    "\n",
    "base = [20,20,15]\n",
    "fraca = [35,55,60]\n",
    "forte = [70, 70, 100]\n",
    "preto = [0, 0, 0]\n",
    "\n",
    "for x in range(0, width):\n",
    "\n",
    "    for y in range(0, height):\n",
    "\n",
    "        canalXY = imgBGR[y,x]\n",
    "\n",
    "        if all(canalXY <= base):\n",
    "\n",
    "            imgBGR[y,x] = preto\n",
    "\n",
    "        elif all(canalXY > fraca):\n",
    "\n",
    "            imgBGR[y,x] = preto\n",
    "\n",
    "\n",
    "cv.imwrite(PEDUNCULO_BGR, imgBGR)\n",
    "\n",
    "mostraImagem(imgBGR, \"IMAGEM SEGMENTADA POR BGR\")\n",
    "#print(largura, altura)"
   ]
  },
  {
   "cell_type": "markdown",
   "metadata": {},
   "source": [
    "## Encontra ponto - trabalhar apenas com o pedúnculo"
   ]
  },
  {
   "cell_type": "code",
   "execution_count": 14,
   "metadata": {},
   "outputs": [],
   "source": [
    "imgSegBGR = cv.imread(PEDUNCULO_BGR) #Leitura da imagem de entrada, imagem encontrada anteriormente - imagem cortada\n",
    "gray = cv.cvtColor(imgSegBGR, cv.COLOR_BGR2GRAY) #Converte a imagem para tons de cinza"
   ]
  },
  {
   "cell_type": "code",
   "execution_count": 15,
   "metadata": {},
   "outputs": [
    {
     "data": {
      "image/png": "[encoded data removed]",
      "text/plain": [
       "<Figure size 360x576 with 1 Axes>"
      ]
     },
     "metadata": {
      "needs_background": "light"
     },
     "output_type": "display_data"
    }
   ],
   "source": [
    "todas_coordenadas = [] \n",
    "todas_coordenadasX = [] #Guarda as coordenadas do eixo X vindas dos cantos encontrados\n",
    "todas_coordenadasY = [] #Guarda as coordenadas do eixo Y vindas dos cantos encontrados\n",
    "\n",
    "cornersPonto = cv.goodFeaturesToTrack(gray, 20, 0.2, 0.25) #Função responsavel por encontrar os cantos Harrys\n",
    "\n",
    "for item in cornersPonto:\n",
    "    \n",
    "    x,y = item[0]\n",
    "    \n",
    "    todas_coordenadas.append((x,y))\n",
    "    todas_coordenadasX.append(int(x))\n",
    "    todas_coordenadasY.append(int(y))\n",
    "    #cv.circle(imgSegBGR, (int(x),int(y)), 1, (0,0,255))\n",
    "    \n",
    "mostraImagem(imgSegBGR, \"CANTOS ENCONTRADOS\")"
   ]
  },
  {
   "cell_type": "code",
   "execution_count": 16,
   "metadata": {},
   "outputs": [],
   "source": [
    "qtdBusca = np.sqrt(len(todas_coordenadas))\n",
    "\n",
    "qtdBusca = round(qtdBusca)"
   ]
  },
  {
   "cell_type": "markdown",
   "metadata": {},
   "source": [
    "## Função encontra ponto de partida"
   ]
  },
  {
   "cell_type": "code",
   "execution_count": 17,
   "metadata": {},
   "outputs": [],
   "source": [
    "#Funções\n",
    "\n",
    "#Calcula o peso das coordenadas\n",
    "\n",
    "def calculaPesoY(a):\n",
    "    \n",
    "    calPeso = (a[0] * a[0]) + (a[1] * a[1])\n",
    "    \n",
    "    calPeso = np.sqrt(calPeso)\n",
    "    \n",
    "    calPeso = int(calPeso)\n",
    "    \n",
    "    return calPeso\n",
    "\n",
    "def calculaPesoX(a, centro):\n",
    "    \n",
    "    if(a[0] > centro):\n",
    "        \n",
    "        dif = (centro - a[0])\n",
    "        \n",
    "        soma = a[0] + dif\n",
    "        \n",
    "    else:\n",
    "        \n",
    "        soma = a[0]\n",
    "        \n",
    "    calPeso = (soma * soma) + (a[1] * a[1])\n",
    "    \n",
    "    calPeso = np.sqrt(calPeso)\n",
    "    \n",
    "    calPeso = round(calPeso)\n",
    "    \n",
    "    return calPeso\n",
    "\n",
    "\n",
    "\n",
    "#Faz a combinação entre a coordenadas e os pesos\n",
    "\n",
    "def combinacao(peso: list, todas_coordenadasN: list) -> list:\n",
    "    \n",
    "    assert len(peso) == len(todas_coordenadasN)\n",
    " \n",
    "    n = len(peso)\n",
    "    \n",
    "    combi = []\n",
    " \n",
    "    for i in range(n):\n",
    "        \n",
    "        combi.append((peso[i], todas_coordenadasN[i]))\n",
    "         \n",
    "    return combi\n",
    "\n",
    "#Calcula a media dos pontos\n",
    "\n",
    "def calculaMedia(m):\n",
    "    \n",
    "    calMedia = (m[0] *  m[1])\n",
    "    \n",
    "    calMedia = int(calMedia)\n",
    "    \n",
    "    return calMedia"
   ]
  },
  {
   "cell_type": "code",
   "execution_count": 18,
   "metadata": {},
   "outputs": [
    {
     "name": "stdout",
     "output_type": "stream",
     "text": [
      "31\n"
     ]
    }
   ],
   "source": [
    "pesoY = []\n",
    "pesoX = []\n",
    "mediaX = []\n",
    "mediaY = []\n",
    "centro = imgBGR.shape[0] / 2\n",
    "margem = imgBGR.shape[1] - 5\n",
    "centroY = imgBGR.shape[1] / 2\n",
    "\n",
    "centroY = int(centroY)\n",
    "\n",
    "centro = int(centro)\n",
    "print(centro)\n",
    "#Calcula o peso de Y\n",
    "for i in todas_coordenadas:\n",
    "    \n",
    "    aux = calculaPesoY(i)\n",
    "    \n",
    "    pesoY.append(aux)\n",
    "    \n",
    "#Calcula o peso de X\n",
    "for i in todas_coordenadas:\n",
    "    \n",
    "    aux = calculaPesoX(i, centro)\n",
    "    \n",
    "    pesoX.append(aux)\n",
    "    \n",
    "#Somatorio do peso Y\n",
    "somatorioPesoY = sum(pesoY)\n",
    "\n",
    "#Somatoria do pedo X\n",
    "somatorioPesoX = sum(pesoX)\n",
    "    \n",
    "#Realiza combinação\n",
    "combinacaoX = combinacao(pesoX, todas_coordenadasX)\n",
    "combinacaoY = combinacao(pesoY, todas_coordenadasY)\n",
    "\n",
    "#Calcula a media dos pontos X\n",
    "for i in combinacaoX:\n",
    "    \n",
    "    aux = calculaMedia(i)\n",
    "    \n",
    "    mediaX.append(aux)\n",
    "    \n",
    "#Calcula a media dos pontos Y\n",
    "for i in combinacaoY:\n",
    "    \n",
    "    aux = calculaMedia(i)\n",
    "    \n",
    "    mediaY.append(aux)\n",
    "\n",
    "\n",
    "somatorioX =  sum(mediaX)\n",
    "somatorioY =  sum(mediaY)\n",
    "\n",
    "pontoX = (somatorioX / somatorioPesoX)  \n",
    "pontoY = (somatorioY / somatorioPesoY)\n",
    "\n",
    "pontoX = int(pontoX)\n",
    "pontoY = int(pontoY)"
   ]
  },
  {
   "cell_type": "code",
   "execution_count": 19,
   "metadata": {},
   "outputs": [
    {
     "data": {
      "image/png": "[encoded data removed]",
      "text/plain": [
       "<Figure size 360x576 with 1 Axes>"
      ]
     },
     "metadata": {
      "needs_background": "light"
     },
     "output_type": "display_data"
    }
   ],
   "source": [
    "pontoPartida = (pontoX, pontoY)\n",
    "#cv.circle(imgSegBGR, (pontoX, pontoY), 1, (0,255,0))\n",
    "    \n",
    "mostraImagem(imgSegBGR, \"PONTO DE PARTIDA\")"
   ]
  },
  {
   "cell_type": "markdown",
   "metadata": {},
   "source": [
    "# Buscas"
   ]
  },
  {
   "cell_type": "code",
   "execution_count": 20,
   "metadata": {},
   "outputs": [],
   "source": [
    "#Funcao que verifica o RGB de cada pixel\n",
    "pend = [9, 30, 32]\n",
    "fora = [40, 40, 40]\n",
    "\n",
    "def marca_ponto(ponto_y, ponto_x):\n",
    "    \n",
    "    controle = 0\n",
    "    \n",
    "    #Verifica se os valores de um determinado pixel é maior que o RGB(100, 120, 40)\n",
    "    \n",
    "    if np.any(imgSegBGR[int(ponto_y), int(ponto_x)] >= pend):\n",
    "        \n",
    "        if np.any(imgSegBGR[int(ponto_y), int(ponto_x)] < fora):\n",
    "             \n",
    "            controle = 1        \n",
    "    else:\n",
    "        \n",
    "        controle = 0\n",
    "        \n",
    "    return controle"
   ]
  },
  {
   "cell_type": "markdown",
   "metadata": {},
   "source": [
    "### Primeira busca"
   ]
  },
  {
   "cell_type": "code",
   "execution_count": 21,
   "metadata": {},
   "outputs": [],
   "source": [
    "def primeiraMovimentacao(pontoY, pontoX, limiteY, limiteX):\n",
    "    \n",
    "    #Ponto maximo dos cantos encontrados \n",
    "    pontoMaximoX = max(todas_coordenadasX)\n",
    "    pontoMaximoY = max(todas_coordenadasY)\n",
    "    \n",
    "    contaBusca = 0\n",
    "    \n",
    "    while(True):\n",
    "    \n",
    "        coordenada = marca_ponto(round(pontoY), round(pontoX))\n",
    "\n",
    "        if(coordenada == 1):\n",
    "\n",
    "            pontoY, pontoX = pontoY, pontoX\n",
    "          \n",
    "            return pontoY, pontoX  \n",
    "        \n",
    "        elif(pontoX > centro):\n",
    "        \n",
    "            pontoY, pontoX = pontoY, centro\n",
    "        \n",
    "        elif(pontoY >= margem):\n",
    "        \n",
    "            pontoY = centroY\n",
    "\n",
    "        else:\n",
    "\n",
    "            if(pontoX >= centro):\n",
    "\n",
    "                pontoY, pontoX = pontoY + 1, pontoX - contaBusca\n",
    "\n",
    "            else:\n",
    "\n",
    "                pontoY, pontoX = pontoY + 1, pontoX + contaBusca\n",
    "                \n",
    "        contaBusca = contaBusca + 1\n",
    "    "
   ]
  },
  {
   "cell_type": "code",
   "execution_count": 22,
   "metadata": {},
   "outputs": [],
   "source": [
    "def segundaMovimentacao(pontoY, pontoX, limiteY): #Movimentação para baixo\n",
    "    \n",
    "    pontoY = pontoY + 5\n",
    "    contaBusca = 0\n",
    "    \n",
    "    while(True):\n",
    "    \n",
    "        coordenada = marca_ponto(round(pontoY), round(pontoX))\n",
    "\n",
    "        if(coordenada == 1):\n",
    "\n",
    "            pontoY, pontoX = pontoY, pontoX\n",
    "\n",
    "            return pontoY, pontoX  \n",
    "        \n",
    "        elif(pontoY >= margem):\n",
    "        \n",
    "            pontoY = centroY\n",
    "\n",
    "        else:\n",
    "\n",
    "            pontoY, pontoX = pontoY + 1, pontoX\n",
    "\n",
    "        contaBusca = contaBusca + 1\n",
    "    "
   ]
  },
  {
   "cell_type": "code",
   "execution_count": 23,
   "metadata": {},
   "outputs": [],
   "source": [
    "def terceiraMovimentacao(pontoY, pontoX): #Movimentação para cima\n",
    "    \n",
    "    pontoY = pontoY - 5\n",
    "    contaBusca = 0\n",
    "    \n",
    "    while(True):\n",
    "    \n",
    "        coordenada = marca_ponto(round(pontoY), round(pontoX))\n",
    "\n",
    "        if(coordenada == 1):\n",
    "\n",
    "            pontoY, pontoX = pontoY, pontoX\n",
    "\n",
    "            return pontoY, pontoX  \n",
    "        else:\n",
    "\n",
    "            pontoY, pontoX = pontoY - 1, pontoX\n",
    "\n",
    "        contaBusca = contaBusca + 1"
   ]
  },
  {
   "cell_type": "code",
   "execution_count": 24,
   "metadata": {},
   "outputs": [],
   "source": [
    "def quartaMovimentacao(pontoY, pontoX, limiteX): #Movimentação para esquerda\n",
    "    \n",
    "    pontoX = pontoX - 2\n",
    "    contaBusca = 0\n",
    "    \n",
    "    while(True):\n",
    "    \n",
    "        coordenada = marca_ponto(round(pontoY), round(pontoX))\n",
    "\n",
    "        if(coordenada == 1):\n",
    "\n",
    "            pontoY, pontoX = pontoY, pontoX\n",
    "\n",
    "            return pontoY, pontoX\n",
    "        \n",
    "        elif(contaBusca > 5):\n",
    "            \n",
    "            pontoX = limiteX - 1\n",
    "            \n",
    "        else:\n",
    "\n",
    "            pontoY, pontoX = pontoY, pontoX - contaBusca \n",
    "\n",
    "        contaBusca = contaBusca + 1"
   ]
  },
  {
   "cell_type": "code",
   "execution_count": 25,
   "metadata": {},
   "outputs": [],
   "source": [
    "def quintaMovimentacao(pontoY, pontoX, limiteX): #Movimentação para esquerda\n",
    "    \n",
    "    pontoX = pontoX + 2\n",
    "    contaBusca = 0\n",
    "    \n",
    "    while(True):\n",
    "    \n",
    "        coordenada = marca_ponto(round(pontoY), round(pontoX))\n",
    "\n",
    "        if(coordenada == 1):\n",
    "\n",
    "            pontoY, pontoX = pontoY, pontoX\n",
    "\n",
    "            return pontoY, pontoX\n",
    "        \n",
    "        elif(contaBusca > 5):\n",
    "            \n",
    "            pontoX = limiteX\n",
    "            \n",
    "        else:\n",
    "\n",
    "            pontoY, pontoX = pontoY, pontoX + contaBusca \n",
    "\n",
    "        contaBusca = contaBusca + 1"
   ]
  },
  {
   "cell_type": "code",
   "execution_count": 26,
   "metadata": {},
   "outputs": [],
   "source": [
    "#pend = [9, 30, 32] distancia euclidina 21 10 13\n",
    "#Para teste\n",
    "#busca4 = quartaMovimentacao(pontoNovoY1, pontoNovoX1, centro)\n",
    "#pontoNovoY4 = busca4[0]\n",
    "#ontoNovoX4 = busca4[1] \n",
    "\n",
    "#print(\"Para esquerda:\",busca4, imgBGR[pontoNovoY4, pontoNovoX4])\n",
    "\n",
    "#busca5 = quintaMovimentacao(pontoNovoY1, pontoNovoX1, centro)\n",
    "#pontoNovoY5 = busca5[0]\n",
    "#pontoNovoX5 = busca5[1] \n",
    "\n",
    "#print(\"Para direita: \",busca5, imgBGR[pontoNovoY5, pontoNovoX5])"
   ]
  },
  {
   "cell_type": "markdown",
   "metadata": {},
   "source": [
    "## Cálculo da diferença de cores "
   ]
  },
  {
   "cell_type": "code",
   "execution_count": 27,
   "metadata": {},
   "outputs": [],
   "source": [
    "def difEuclidiana(cores):\n",
    "    \n",
    "    euclidiana = (cores[0] - cores[1])\n",
    "    \n",
    "    Eucli = euclidiana * euclidiana\n",
    "    \n",
    "    return Eucli"
   ]
  },
  {
   "cell_type": "code",
   "execution_count": 28,
   "metadata": {},
   "outputs": [],
   "source": [
    "def calculaEuclidiana(combinacoes):\n",
    "    \n",
    "    Euclidiana = 0\n",
    "    \n",
    "    for i in combinacoes:\n",
    "        \n",
    "        Euclidiana = Euclidiana + difEuclidiana(i)\n",
    "\n",
    "        raizEuclidiana = np.sqrt(Euclidiana)\n",
    "        \n",
    "    return raizEuclidiana\n",
    "\n",
    "        #distanciaEuclidiana.append(raizEuclidiana)\n",
    "    "
   ]
  },
  {
   "cell_type": "markdown",
   "metadata": {},
   "source": [
    "### Distância Euclidiana"
   ]
  },
  {
   "cell_type": "code",
   "execution_count": 29,
   "metadata": {},
   "outputs": [],
   "source": [
    "#calEuclidiana1 = calculaEuclidiana(combinacaoCores1)\n",
    "#calEuclidiana2 = calculaEuclidiana(combinacaoCores2)\n",
    "#calEuclidiana3 = calculaEuclidiana(combinacaoCores3)\n",
    "\n",
    "#print(min(calEuclidiana1, calEuclidiana2, calEuclidiana3))"
   ]
  },
  {
   "cell_type": "code",
   "execution_count": 30,
   "metadata": {},
   "outputs": [
    {
     "name": "stdout",
     "output_type": "stream",
     "text": [
      "Coordenada:      Y   X    B  G  R\n",
      "Inicio:        (44, 18) [30 35 38]\n",
      "Para baixo:    (41, 18) [32 38 43]\n",
      "Para cima:     (-16, 18) [33 38 39]\n",
      "(44, 18, 22.40535650240808)\n",
      "(41, 18, 26.720778431774775)\n",
      "(-16, 18, 26.248809496813376)\n",
      "(22.40535650240808, 26.720778431774775, 26.248809496813376)\n"
     ]
    }
   ],
   "source": [
    "print(\"Coordenada:      Y   X    B  G  R\")\n",
    "busca1 = primeiraMovimentacao(pontoY, pontoX, margem, centro)\n",
    "pontoNovoY1 = busca1[0]\n",
    "pontoNovoX1 = busca1[1] \n",
    "\n",
    "print(\"Inicio:       \",busca1, imgBGR[pontoNovoY1, pontoNovoX1])\n",
    "\n",
    "busca2 = segundaMovimentacao(pontoNovoY1, pontoNovoX1, margem)\n",
    "pontoNovoY2 = busca2[0]\n",
    "pontoNovoX2 = busca2[1] \n",
    "\n",
    "print(\"Para baixo:   \",busca2, imgBGR[pontoNovoY2, pontoNovoX2])\n",
    "\n",
    "busca3 = terceiraMovimentacao(pontoNovoY1, pontoNovoX1)\n",
    "pontoNovoY3 = busca3[0]\n",
    "pontoNovoX3 = busca3[1] \n",
    "\n",
    "print(\"Para cima:    \",busca3, imgBGR[pontoNovoY3, pontoNovoX3])\n",
    "\n",
    "combinacaoCores1 = combinacao(pend, imgBGR[pontoNovoY1, pontoNovoX1])\n",
    "calEuclidiana1 = calculaEuclidiana(combinacaoCores1)\n",
    "primeiroPonto = (pontoNovoY1, pontoNovoX1, calEuclidiana1)\n",
    "print(primeiroPonto)\n",
    "\n",
    "combinacaoCores2 = combinacao(pend, imgBGR[pontoNovoY2, pontoNovoX2])\n",
    "calEuclidiana2 = calculaEuclidiana(combinacaoCores2)\n",
    "segundoPonto = (pontoNovoY2, pontoNovoX2, calEuclidiana2)\n",
    "print(segundoPonto)\n",
    "\n",
    "combinacaoCores3 = combinacao(pend, imgBGR[pontoNovoY3, pontoNovoX3])\n",
    "calEuclidiana3 = calculaEuclidiana(combinacaoCores3)\n",
    "terceiroPonto = (pontoNovoY3, pontoNovoX3, calEuclidiana3)\n",
    "print(terceiroPonto)\n",
    "\n",
    "coordenadaFinal = (primeiroPonto[2], segundoPonto[2], terceiroPonto[2])\n",
    "print(coordenadaFinal)"
   ]
  },
  {
   "cell_type": "markdown",
   "metadata": {},
   "source": [
    "### Porcentagem de diferença"
   ]
  },
  {
   "cell_type": "code",
   "execution_count": 31,
   "metadata": {},
   "outputs": [],
   "source": [
    "def acuracia(corBusca, corEncontrada):\n",
    "    \n",
    "    porcentagem = (corEncontrada * 100) / corBusca\n",
    "    \n",
    "    return porcentagem\n",
    "\n",
    "def soma(cores):\n",
    "    \n",
    "    somaCor = 0\n",
    "    \n",
    "    for i in range(len(cores)):\n",
    "        \n",
    "        somaCor = cores[i] + somaCor\n",
    "        \n",
    "    return somaCor"
   ]
  },
  {
   "cell_type": "code",
   "execution_count": 32,
   "metadata": {},
   "outputs": [
    {
     "ename": "NameError",
     "evalue": "name 'pixel' is not defined",
     "output_type": "error",
     "traceback": [
      "\u001b[0;31m---------------------------------------------------------------------------\u001b[0m",
      "\u001b[0;31mNameError\u001b[0m                                 Traceback (most recent call last)",
      "\u001b[0;32m<ipython-input-32-9511b9c30255>\u001b[0m in \u001b[0;36m<module>\u001b[0;34m\u001b[0m\n\u001b[0;32m----> 1\u001b[0;31m \u001b[0mcorEncontrada\u001b[0m \u001b[0;34m=\u001b[0m \u001b[0msoma\u001b[0m\u001b[0;34m(\u001b[0m\u001b[0mpixel\u001b[0m\u001b[0;34m)\u001b[0m\u001b[0;34m\u001b[0m\u001b[0;34m\u001b[0m\u001b[0m\n\u001b[0m\u001b[1;32m      2\u001b[0m \u001b[0mcorPedunculo\u001b[0m  \u001b[0;34m=\u001b[0m \u001b[0msoma\u001b[0m\u001b[0;34m(\u001b[0m\u001b[0mpend\u001b[0m\u001b[0;34m)\u001b[0m\u001b[0;34m\u001b[0m\u001b[0;34m\u001b[0m\u001b[0m\n\u001b[1;32m      3\u001b[0m \u001b[0;34m\u001b[0m\u001b[0m\n\u001b[1;32m      4\u001b[0m \u001b[0maux\u001b[0m \u001b[0;34m=\u001b[0m \u001b[0mcorPedunculo\u001b[0m\u001b[0;34m\u001b[0m\u001b[0;34m\u001b[0m\u001b[0m\n\u001b[1;32m      5\u001b[0m \u001b[0;34m\u001b[0m\u001b[0m\n",
      "\u001b[0;31mNameError\u001b[0m: name 'pixel' is not defined"
     ]
    }
   ],
   "source": [
    "corEncontrada = soma(pixel)\n",
    "corPedunculo  = soma(pend)\n",
    "\n",
    "aux = corPedunculo\n",
    "\n",
    "if(corPedunculo < corEncontrada):\n",
    "    \n",
    "    corPedunculo = corEncontrada\n",
    "    corEncontrada = aux\n",
    "\n",
    "acuraciaEncontrada = acuracia(corPedunculo, corEncontrada)"
   ]
  },
  {
   "cell_type": "markdown",
   "metadata": {},
   "source": [
    "### Erro Quadradico Medio "
   ]
  },
  {
   "cell_type": "code",
   "execution_count": null,
   "metadata": {},
   "outputs": [],
   "source": [
    "def diferencaMSE(cores):\n",
    "    \n",
    "    dif = (cores[1] - cores[0])\n",
    "    \n",
    "    difMSE = dif * dif\n",
    "    \n",
    "    return difMSE"
   ]
  },
  {
   "cell_type": "code",
   "execution_count": null,
   "metadata": {},
   "outputs": [],
   "source": [
    "somaMSE = 0\n",
    "\n",
    "for i in combinacaoCores:\n",
    "    \n",
    "    somaMSE = somaMSE + diferencaMSE(i)\n",
    "    \n",
    "resultadoMSE = somaMSE / 6"
   ]
  },
  {
   "cell_type": "code",
   "execution_count": null,
   "metadata": {},
   "outputs": [],
   "source": [
    "#pend = [9, 30, 32] distancia euclidina\n",
    "\n",
    "#for item in caminhoPontos:\n",
    "    \n",
    "   # x,y = item[0], item[1]\n",
    "    \n",
    "    #cv.circle(imgSegBGR, (x,y), 1, (255,255,255))\n",
    "\n",
    "#mostraImagem(imgSegBGR, \"CAMINHO DE BUSCA\")"
   ]
  },
  {
   "cell_type": "markdown",
   "metadata": {},
   "source": [
    "## Imagem de saída com o ponto encontrado"
   ]
  },
  {
   "cell_type": "code",
   "execution_count": null,
   "metadata": {},
   "outputs": [],
   "source": [
    "cv.circle(imgSegBGR, (pontoX,pontoY), 1, (255,0,0))\n",
    "\n",
    "mostraImagem(imgSegBGR, \"PONTO FINAL\")"
   ]
  },
  {
   "cell_type": "code",
   "execution_count": null,
   "metadata": {
    "scrolled": true
   },
   "outputs": [],
   "source": [
    "img = cv.imread(IMAGEM_CAPTURADA_NORMAL)\n",
    "\n",
    "PontoFinalX = TopLeftX + pontoX\n",
    "PontoFinalY = TopLeftY + pontoY\n",
    "\n",
    "cv.circle(img, (PontoFinalX, PontoFinalY), 1, (255,255,255))\n",
    "\n",
    "cv.imwrite(\"pedunculoEncontradoAritimetica\" + idImagem + \".jpg\", img)\n",
    "\n",
    "fig = plt.figure(figsize = (20,8))\n",
    "plt.imshow(img)\n",
    "plt.show()"
   ]
  },
  {
   "cell_type": "code",
   "execution_count": null,
   "metadata": {},
   "outputs": [],
   "source": [
    "print(\"Coordenada de partida x,y:           {}\".format(pontoPartida))\n",
    "#print(\"A quantidade de busca foram:         {}\".format(contaBuscas))\n",
    "#print(\"O tempo de busca foi:                {}\".format(tempo))\n",
    "print(\"As coordenadas pedunculo foram x,y:  ({},{})\".format(pontoX, pontoY))\n",
    "print(\"As coordenadas finais são: x,y:      ({},{})\".format(PontoFinalX, PontoFinalY))\n",
    "print(\"A precisão da cor encontrada foi de: {:.2f}%\".format(acuraciaEncontrada))\n",
    "print(\"O Erro Quadradico Médio é de:        {:.2f}\".format(resultadoMSE))\n",
    "print(\"A diferença Euclidiana é de:         {:.2f}\".format(Euclidiana))"
   ]
  },
  {
   "cell_type": "code",
   "execution_count": null,
   "metadata": {},
   "outputs": [],
   "source": []
  }
 ],
 "metadata": {
  "kernelspec": {
   "display_name": "Python 3",
   "language": "python",
   "name": "python3"
  },
  "language_info": {
   "codemirror_mode": {
    "name": "ipython",
    "version": 3
   },
   "file_extension": ".py",
   "mimetype": "text/x-python",
   "name": "python",
   "nbconvert_exporter": "python",
   "pygments_lexer": "ipython3",
   "version": "3.8.5"
  }
 },
 "nbformat": 4,
 "nbformat_minor": 4
}
