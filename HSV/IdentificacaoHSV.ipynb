{
 "cells": [
  {
   "cell_type": "code",
   "execution_count": 1,
   "metadata": {},
   "outputs": [],
   "source": [
    "import numpy as np\n",
    "import cv2\n",
    "from matplotlib import pyplot as plt"
   ]
  },
  {
   "cell_type": "code",
   "execution_count": 2,
   "metadata": {},
   "outputs": [
    {
     "name": "stdout",
     "output_type": "stream",
     "text": [
      "Fruta? maca\n"
     ]
    }
   ],
   "source": [
    "nomeFruta = input(\"Fruta? \")"
   ]
  },
  {
   "cell_type": "code",
   "execution_count": 3,
   "metadata": {},
   "outputs": [],
   "source": [
    "with open(\"Calibracao_hsv_\" + nomeFruta + \".txt\") as hsv:\n",
    "    \n",
    "    parametros = hsv.readlines()\n",
    "          \n",
    "    hMin = int(parametros[0])\n",
    "    sMin = int(parametros[1])\n",
    "    vMin = int(parametros[2])\n",
    "        \n",
    "    hMax = int(parametros[3])\n",
    "    sMax = int(parametros[4])\n",
    "    vMax = int(parametros[5])"
   ]
  },
  {
   "cell_type": "code",
   "execution_count": 10,
   "metadata": {
    "scrolled": true
   },
   "outputs": [],
   "source": [
    "cap = cv2.VideoCapture(1)\n",
    "\n",
    "while True:\n",
    "\n",
    "    ret, frame = cap.read()\n",
    "    hsv =  cv2.cvtColor(frame, cv2.COLOR_BGR2HSV)\n",
    "    \n",
    "    imgPedunculo = np.copy(frame)\n",
    "\n",
    "    lim_inf = np.array([hMin, sMin, vMin])\n",
    "    lim_sup = np.array([hMax, sMax, vMax])\n",
    "\n",
    "    color_mask = cv2.inRange(hsv, lim_inf, lim_sup)\n",
    "\n",
    "    (couts,hir) = cv2.findContours(color_mask, cv2.RETR_TREE, cv2.CHAIN_APPROX_SIMPLE)\n",
    "\n",
    "    distanciaFocal = 1.185\n",
    "    larguraFruta = 62\n",
    "    distancia = 0.0\n",
    "  \n",
    "    for cout in couts:\n",
    "        area = cv2.contourArea(cout)\n",
    "\n",
    "        if (area > 800):\n",
    "\n",
    "            x,y,w,h = cv2.boundingRect(cout)\n",
    "            frame = cv2.rectangle(frame, (x,y),(x+w,y+h),(0,0,255),2)\n",
    "\n",
    "            #largura = (x + w)\n",
    "\n",
    "            #distancia = (distanciaFocal * larguraFruta) / largura\n",
    "\n",
    "            #distancia = round(distancia, 4)\n",
    "\n",
    "            #cv2.putText(frame, str(distancia)+ \"cm\", (x,y), cv2.FONT_HERSHEY_SIMPLEX, 1, (0, 255, 255))\n",
    "            \n",
    "            xt = x\n",
    "            xb = x+w\n",
    "            yt = y\n",
    "            yb = y+h\n",
    "\n",
    "            #Regiao de interesse\n",
    "\n",
    "            Lmax = abs(xt - xb)\n",
    "            Hmax = abs(yt - yb)\n",
    "\n",
    "            RoiL = 0.5 * Lmax\n",
    "            RoiH = 0.5 * Hmax\n",
    "\n",
    "            #Esses coordenadas são as que vão delimitar a area onde a imagem vai ser cortada\n",
    "\n",
    "            centro = (xb + xt) / 2\n",
    "\n",
    "            centroCaixa = RoiL / 2\n",
    "\n",
    "            x1 = centro - centroCaixa\n",
    "            x2 = centro + centroCaixa\n",
    "\n",
    "            y1 = abs(yt - 5)\n",
    "            y2 = abs(RoiH - y1)\n",
    "            \n",
    "            centerPointX = (x1 + x2) / 2\n",
    "            centerPointY = (y1 + y2) / 2\n",
    "            \n",
    "            centerPointX = int(centerPointX)\n",
    "            centerPointY = int(centerPointY)\n",
    "            \n",
    "            x1 = int(x1)\n",
    "            y1 = int(y1)\n",
    "            x2 = int(x2)\n",
    "            y2 = int(y2)\n",
    "\n",
    "            TopLeftY = y2\n",
    "            TopLeftX = x1\n",
    "            \n",
    "            corte = imgPedunculo[y2:y1, x1:x2]\n",
    "\n",
    "            #cv2.imwrite(\"teste.jpg\", corte)\n",
    "                                   \n",
    "            #cv2.circle(frame, (centerPointX, centerPointY), 2,(255, 255, 0),  1)\n",
    "            \n",
    "            cv2.rectangle(frame, (x2, y2), (x1,y1), (255,255,0), 1)\n",
    "\n",
    "    cv2.imshow('Identificacao por HSV', frame)\n",
    "    cv2.imshow(\"ROI\", corte)\n",
    "   \n",
    "    if cv2.waitKey(1) == 27:\n",
    "        break\n",
    "\n",
    "cv2.destroyAllWindows()\n",
    "cap.release()    "
   ]
  },
  {
   "cell_type": "code",
   "execution_count": null,
   "metadata": {},
   "outputs": [],
   "source": []
  },
  {
   "cell_type": "markdown",
   "metadata": {},
   "source": []
  }
 ],
 "metadata": {
  "kernelspec": {
   "display_name": "Python 3",
   "language": "python",
   "name": "python3"
  },
  "language_info": {
   "codemirror_mode": {
    "name": "ipython",
    "version": 3
   },
   "file_extension": ".py",
   "mimetype": "text/x-python",
   "name": "python",
   "nbconvert_exporter": "python",
   "pygments_lexer": "ipython3",
   "version": "3.8.5"
  }
 },
 "nbformat": 4,
 "nbformat_minor": 4
}
