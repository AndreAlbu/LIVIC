{
 "cells": [
  {
   "cell_type": "code",
   "execution_count": 1,
   "metadata": {},
   "outputs": [],
   "source": [
    "import numpy as np\n",
    "import cv2\n",
    "from matplotlib import pyplot as plt"
   ]
  },
  {
   "cell_type": "code",
   "execution_count": 2,
   "metadata": {},
   "outputs": [
    {
     "name": "stdout",
     "output_type": "stream",
     "text": [
      "Fruta? manga\n"
     ]
    }
   ],
   "source": [
    "nomeFruta = input(\"Fruta? \")"
   ]
  },
  {
   "cell_type": "code",
   "execution_count": 3,
   "metadata": {},
   "outputs": [],
   "source": [
    "with open(\"Calibracao_hsv_\" + nomeFruta + \".txt\") as hsv:\n",
    "    \n",
    "    parametros = hsv.readlines()\n",
    "          \n",
    "    hMin = int(parametros[0])\n",
    "    sMin = int(parametros[1])\n",
    "    vMin = int(parametros[2])\n",
    "        \n",
    "    hMax = int(parametros[3])\n",
    "    sMax = int(parametros[4])\n",
    "    vMax = int(parametros[5])"
   ]
  },
  {
   "cell_type": "markdown",
   "metadata": {},
   "source": [
    "arquivo com as coordenadas de segmentação do pedunculo\n",
    "*\n",
    "*\n",
    "*\n",
    "*\n",
    "*\n",
    "*\n",
    "*\n",
    "\n"
   ]
  },
  {
   "cell_type": "code",
   "execution_count": 4,
   "metadata": {},
   "outputs": [],
   "source": [
    "def segmentacaoHSV(imgCorte):\n",
    "    \n",
    "    baixo = np.array([2, 67, 149])\n",
    "    alto =  np.array([27, 131, 228])\n",
    "\n",
    "    img_hsv = cv2.cvtColor(imgCorte, cv2.COLOR_BGR2HSV)\n",
    "\n",
    "    mask = cv2.inRange(img_hsv, baixo, alto)\n",
    "\n",
    "    img_seg = cv2.bitwise_and(imgCorte, imgCorte, mask = mask)\n",
    "    \n",
    "    return img_seg"
   ]
  },
  {
   "cell_type": "code",
   "execution_count": 5,
   "metadata": {},
   "outputs": [],
   "source": [
    "def cantosEncontrados(imgSegBGR):\n",
    "    \n",
    "    gray = cv2.cvtColor(imgSegBGR, cv2.COLOR_BGR2GRAY)\n",
    "    \n",
    "    largura = imgSegBGR.shape[0]\n",
    "    altura  = imgSegBGR.shape[1]\n",
    "    \n",
    "    centroX = round(largura / 2)\n",
    "    centroY = round(altura / 2)\n",
    "\n",
    "    todas_coordenadas  =  [] #Guarda todas as coordenadas (eixo X e Y)\n",
    "    todas_coordenadasX =  [] #Guarda as coordenadas do eixo X vindas dos cantos encontrados\n",
    "    todas_coordenadasY =  [] #Guarda as coordenadas do eixo Y vindas dos cantos encontrados\n",
    "\n",
    "    try:\n",
    "        \n",
    "        cornersPonto = cv2.goodFeaturesToTrack(gray, 20, 0.2, 0.25) #Função responsavel por encontrar os cantos Harrys\n",
    "\n",
    "        for item in cornersPonto:\n",
    "\n",
    "            x,y = item[0]\n",
    "\n",
    "            todas_coordenadas.append((x,y))\n",
    "            todas_coordenadasX.append(int(x))\n",
    "            todas_coordenadasY.append(int(y))\n",
    "            #cv2.circle(imgSegBGR, (int(x),int(y)), 1, (0,0,255))\n",
    "\n",
    "        return todas_coordenadas,todas_coordenadasX, todas_coordenadasY\n",
    "    \n",
    "    except TypeError:\n",
    "        \n",
    "        todas_coordenadas,todas_coordenadasX, todas_coordenadasY = [(centroX, centroY)], [(centroX)], [(centroY)]\n",
    "        \n",
    "        return todas_coordenadas,todas_coordenadasX, todas_coordenadasY\n",
    "        "
   ]
  },
  {
   "cell_type": "markdown",
   "metadata": {},
   "source": [
    "# Funções para encontrar o ponto de partida"
   ]
  },
  {
   "cell_type": "markdown",
   "metadata": {},
   "source": [
    "## Média com peso"
   ]
  },
  {
   "cell_type": "code",
   "execution_count": 25,
   "metadata": {},
   "outputs": [],
   "source": [
    "#Funções\n",
    "\n",
    "#Calcula o peso das coordenadas\n",
    "\n",
    "def calculaPesoY(a):\n",
    "    \n",
    "    calPeso = (a[0] * a[0]) + (a[1] * a[1])\n",
    "    \n",
    "    calPeso = np.sqrt(calPeso)\n",
    "    \n",
    "    calPeso = int(calPeso)\n",
    "    \n",
    "    return calPeso\n",
    "\n",
    "def calculaPesoX(a, centro):\n",
    "    \n",
    "    if(a[0] > centro):\n",
    "        \n",
    "        dif = (centro - a[0])\n",
    "        \n",
    "        soma = a[0] + dif\n",
    "        \n",
    "    else:\n",
    "        \n",
    "        soma = a[0]\n",
    "        \n",
    "    calPeso = (soma * soma) + (a[1] * a[1])\n",
    "    \n",
    "    calPeso = np.sqrt(calPeso)\n",
    "    \n",
    "    calPeso = round(calPeso)\n",
    "    \n",
    "    return calPeso\n",
    "\n",
    "\n",
    "\n",
    "#Faz a combinação entre a coordenadas e os pesos\n",
    "\n",
    "def combinacao(peso: list, todas_coordenadasN: list) -> list:\n",
    "    \n",
    "    assert len(peso) == len(todas_coordenadasN)\n",
    " \n",
    "    n = len(peso)\n",
    "    \n",
    "    combi = []\n",
    " \n",
    "    for i in range(n):\n",
    "        \n",
    "        combi.append((peso[i], todas_coordenadasN[i]))\n",
    "         \n",
    "    return combi\n",
    "\n",
    "#Calcula a media dos pontos\n",
    "\n",
    "def calculaMedia(m):\n",
    "    \n",
    "    calMedia = (m[0] *  m[1])\n",
    "    \n",
    "    calMedia = int(calMedia)\n",
    "    \n",
    "    return calMedia"
   ]
  },
  {
   "cell_type": "code",
   "execution_count": 26,
   "metadata": {},
   "outputs": [],
   "source": [
    "def encontrarPontos(img, todasCoordenadas, coordenadasX, coordenadasY):\n",
    "    \n",
    "    pesoY =   []\n",
    "    pesoX =   []\n",
    "    mediaX =  []\n",
    "    mediaY =  []\n",
    "    \n",
    "    centro =  img.shape[0] / 2\n",
    "    centro = int(centro)\n",
    "     \n",
    "    #Calcula o peso de Y\n",
    "    for i in todasCoordenadas:\n",
    "\n",
    "        aux = calculaPesoY(i)\n",
    "\n",
    "        pesoY.append(aux)\n",
    "\n",
    "    #Calcula o peso de X\n",
    "    for i in todasCoordenadas:\n",
    "\n",
    "        aux = calculaPesoX(i, centro)\n",
    "\n",
    "        pesoX.append(aux)\n",
    "\n",
    "    #Somatorio do peso Y\n",
    "    somatorioPesoY = sum(pesoY)\n",
    "\n",
    "    #Somatoria do pedo X\n",
    "    somatorioPesoX = sum(pesoX)\n",
    "\n",
    "    #Realiza combinação\n",
    "    combinacaoX = combinacao(pesoX, coordenadasX)\n",
    "    combinacaoY = combinacao(pesoY, coordenadasY)\n",
    "\n",
    "    #Calcula a media dos pontos X\n",
    "    for i in combinacaoX:\n",
    "\n",
    "        aux = calculaMedia(i)\n",
    "\n",
    "        mediaX.append(aux)\n",
    "\n",
    "    #Calcula a media dos pontos Y\n",
    "    for i in combinacaoY:\n",
    "\n",
    "        aux = calculaMedia(i)\n",
    "\n",
    "        mediaY.append(aux)\n",
    "\n",
    "\n",
    "    somatorioX =  sum(mediaX)\n",
    "    somatorioY =  sum(mediaY)\n",
    "\n",
    "    pontoX = (somatorioX / somatorioPesoX)  \n",
    "    pontoY = (somatorioY / somatorioPesoY)\n",
    "\n",
    "    pontoX = int(pontoX)\n",
    "    pontoY = int(pontoY)\n",
    "\n",
    "    return pontoX, pontoY"
   ]
  },
  {
   "cell_type": "markdown",
   "metadata": {},
   "source": [
    "# Encontra ponto final"
   ]
  },
  {
   "cell_type": "code",
   "execution_count": 27,
   "metadata": {},
   "outputs": [],
   "source": [
    "def marca_ponto(img, ponto_y, ponto_x):\n",
    "    \n",
    "    #minimo = [45, 45, 45]\n",
    "    #maximo = [180, 180, 180]\n",
    "    \n",
    "    minimo = [61, 167, 155]\n",
    "    maximo = [71, 177, 165]\n",
    "    \n",
    "    controle = 0\n",
    "    \n",
    "    #Verifica se os valores de um determinado pixel é maior que o RGB(100, 120, 40)\n",
    "    \n",
    "    if np.any(img[int(ponto_y), int(ponto_x)] >= minimo):\n",
    "        \n",
    "        if np.any(img[int(ponto_y), int(ponto_x)] <= maximo):\n",
    "             \n",
    "            controle = 1        \n",
    "    else:\n",
    "        \n",
    "        controle = 0\n",
    "        \n",
    "    return controle"
   ]
  },
  {
   "cell_type": "code",
   "execution_count": 28,
   "metadata": {},
   "outputs": [],
   "source": [
    "def localizaPonto(img, pontoY, pontoX):\n",
    "    \n",
    "    copiaX, copiaY = pontoX, pontoY\n",
    "    \n",
    "    largura = img.shape[0]\n",
    "    altura  = img.shape[1]\n",
    "        \n",
    "    larguraCentro = largura / 2\n",
    "    alturaCentro  = altura /  2\n",
    "    \n",
    "    limiteBusca = larguraCentro\n",
    "    \n",
    "    #montar quadrante\n",
    "    \n",
    "    if(pontoX <= larguraCentro and pontoY <= alturaCentro):\n",
    "        \n",
    "        movimentoX, movimentoY = 1, 1\n",
    "        \n",
    "    elif(pontoX > larguraCentro and pontoY < alturaCentro):\n",
    "        \n",
    "        movimentoX, movimentoY = -1, 1\n",
    "        \n",
    "    elif(pontoX < larguraCentro and pontoY > alturaCentro):\n",
    "        \n",
    "        movimentoX, movimentoY = 1, -1\n",
    "        \n",
    "    else:\n",
    "        \n",
    "        movimentoX, movimentoY = -1, -1\n",
    "    \n",
    "    qtdBusca = 0\n",
    "    \n",
    "    while(1):\n",
    "        \n",
    "        try:\n",
    "    \n",
    "            coordenada = marca_ponto(img, round(pontoY), round(pontoX))\n",
    "\n",
    "            if(coordenada == 1):\n",
    "\n",
    "                pontoY, pontoX = pontoY, pontoX\n",
    "\n",
    "                return int(pontoY), int(pontoX) \n",
    "\n",
    "            elif(qtdBusca >= limiteBusca):\n",
    "\n",
    "                return int(copiaY), int(copiaX)\n",
    "\n",
    "            elif(pontoX == largura - 5 or pontoY == altura - 5):\n",
    "\n",
    "                pontoX, pontoY = copiaX, copiaY\n",
    "\n",
    "            else:\n",
    "\n",
    "                pontoX, pontoY = pontoX + movimentoX, pontoY + movimentoY\n",
    "\n",
    "            qtdBusca = qtdBusca + 1\n",
    "\n",
    "            \n",
    "        except IndexError:\n",
    "            \n",
    "            return int(alturaCentro), int(larguraCentro)\n"
   ]
  },
  {
   "cell_type": "markdown",
   "metadata": {},
   "source": [
    "# Identificação"
   ]
  },
  {
   "cell_type": "code",
   "execution_count": 31,
   "metadata": {
    "scrolled": true
   },
   "outputs": [],
   "source": [
    "#cap = cv2.VideoCapture(1)\n",
    "\n",
    "while True:\n",
    "\n",
    "    #ret, frame = cap.read()\n",
    "    \n",
    "    frame = cv2.imread(\"normal111.jpg\")\n",
    "    hsv =  cv2.cvtColor(frame, cv2.COLOR_BGR2HSV)\n",
    "    \n",
    "    imgPedunculo = np.copy(frame)\n",
    "\n",
    "    lim_inf = np.array([hMin, sMin, vMin])\n",
    "    lim_sup = np.array([hMax, sMax, vMax])\n",
    "        \n",
    "    color_mask = cv2.inRange(hsv, lim_inf, lim_sup)\n",
    "\n",
    "    (couts,hir) = cv2.findContours(color_mask, cv2.RETR_TREE, cv2.CHAIN_APPROX_SIMPLE)\n",
    "    \n",
    "    idx = 0\n",
    "  \n",
    "    for cout in couts:\n",
    "        \n",
    "        area = cv2.contourArea(cout)\n",
    "\n",
    "        if (area > 600):\n",
    "            \n",
    "            idx = idx + 1\n",
    "\n",
    "            x,y,w,h = cv2.boundingRect(cout)\n",
    "            frame = cv2.rectangle(frame, (x,y),(x+w,y+h),(0,0,255),2)\n",
    "            \n",
    "            xt = x\n",
    "            xb = x+w\n",
    "            yt = y\n",
    "            yb = y+h\n",
    "\n",
    "            #Regiao de interesse\n",
    "\n",
    "            Lmax = abs(xt - xb)\n",
    "            Hmax = abs(yt - yb)\n",
    "\n",
    "            RoiL = 0.5 * Lmax\n",
    "            RoiH = 0.5 * Hmax\n",
    "\n",
    "            #Esses coordenadas são as que vão delimitar a area onde a imagem vai ser cortada\n",
    "\n",
    "            centro = (xb + xt) / 2\n",
    "\n",
    "            centroCaixa = RoiL / 2\n",
    "\n",
    "            x1 = centro - centroCaixa\n",
    "            x2 = centro + centroCaixa\n",
    "\n",
    "            y1 = abs(yt - 5)\n",
    "            y2 = abs(RoiH - y1)\n",
    "            \n",
    "            centerPointX = (x1 + x2) / 2\n",
    "            centerPointY = (y1 + y2) / 2\n",
    "            \n",
    "            centerPointX = int(centerPointX)\n",
    "            centerPointY = int(centerPointY)\n",
    "            \n",
    "            x1 = int(x1)\n",
    "            y1 = int(y1)\n",
    "            x2 = int(x2)\n",
    "            y2 = int(y2)\n",
    "            \n",
    "            TopLeftX = x1\n",
    "            TopLeftY = y2\n",
    "                        \n",
    "            #print(TopLeftX, TopLeftY)\n",
    "            \n",
    "            corte = imgPedunculo[y2:y1, x1:x2]\n",
    "            \n",
    "            cv2.putText(frame, (str(idx)), (x1, y2), cv2.FONT_HERSHEY_SIMPLEX, 1, (0, 0, 255))\n",
    "            \n",
    "            cv2.imwrite(str(idx) + \".jpg\", corte)\n",
    "                   \n",
    "            cv2.rectangle(frame, (x2, y2), (x1,y1), (255,255,0), 1)\n",
    "            \n",
    "            corteHSV = segmentacaoHSV(corte)\n",
    "                        \n",
    "            cantos = cantosEncontrados(corteHSV)\n",
    "            \n",
    "            todas, x, y = cantos[0], cantos[1], cantos[2]\n",
    "            \n",
    "            pontos = encontrarPontos(corteHSV, todas, x, y)\n",
    "            \n",
    "            pontoPartidaX, pontoPartidaY = pontos[0], pontos[1]\n",
    "                        \n",
    "            pontoFinal = localizaPonto(corteHSV, pontoPartidaY, pontoPartidaX)\n",
    "            \n",
    "            pontoFinalX, pontoFinalY = pontoFinal[1], pontoFinal[0]\n",
    "                    \n",
    "            pontoFinalX = TopLeftX + pontoFinalX\n",
    "            pontoFinalY = TopLeftY + pontoFinalY\n",
    "                                \n",
    "            cv2.circle(corteHSV, (pontoPartidaX, pontoPartidaY), 1, (255, 0, 255))\n",
    "            cv2.circle(corteHSV, (pontoFinalX, pontoFinalY), 2, (0, 0, 255))\n",
    "            \n",
    "            cv2.circle(frame, (pontoFinalX, pontoFinalY), 2, (0, 0, 255))\n",
    "            \n",
    "            cv2.imshow(str(idx) + \"ROI HSV\", corteHSV)            \n",
    "                        \n",
    "\n",
    "    cv2.imshow('Identificacao por HSV', frame) \n",
    "    cv2.imwrite(\"IdentificacaoHSV.jpg\", frame)\n",
    "   \n",
    "    if cv2.waitKey(1) == 27:\n",
    "        break\n",
    "\n",
    "cv2.destroyAllWindows()\n",
    "#cap.release()    "
   ]
  },
  {
   "cell_type": "code",
   "execution_count": 50,
   "metadata": {},
   "outputs": [],
   "source": [
    "teste = cv2.imread(\"pedunculos/nome.png\")"
   ]
  },
  {
   "cell_type": "code",
   "execution_count": 52,
   "metadata": {},
   "outputs": [
    {
     "data": {
      "text/plain": [
       "([(38.0, 84.0),\n",
       "  (29.0, 61.0),\n",
       "  (63.0, 67.0),\n",
       "  (20.0, 67.0),\n",
       "  (41.0, 20.0),\n",
       "  (10.0, 78.0),\n",
       "  (21.0, 2.0),\n",
       "  (66.0, 66.0),\n",
       "  (40.0, 79.0),\n",
       "  (3.0, 78.0),\n",
       "  (46.0, 41.0),\n",
       "  (8.0, 76.0),\n",
       "  (43.0, 19.0),\n",
       "  (72.0, 57.0),\n",
       "  (69.0, 77.0),\n",
       "  (44.0, 39.0),\n",
       "  (71.0, 84.0),\n",
       "  (20.0, 65.0),\n",
       "  (44.0, 37.0)],\n",
       " [38, 29, 63, 20, 41, 10, 21, 66, 40, 3, 46, 8, 43, 72, 69, 44, 71, 20, 44],\n",
       " [84, 61, 67, 67, 20, 78, 2, 66, 79, 78, 41, 76, 19, 57, 77, 39, 84, 65, 37])"
      ]
     },
     "execution_count": 52,
     "metadata": {},
     "output_type": "execute_result"
    }
   ],
   "source": [
    "cantosEncontrados(teste)"
   ]
  },
  {
   "cell_type": "code",
   "execution_count": 53,
   "metadata": {},
   "outputs": [],
   "source": [
    "testeCoordenadas = cantosEncontrados(teste)\n",
    "\n",
    "xyt, xt, yt = testeCoordenadas[0], testeCoordenadas[1], testeCoordenadas[2]"
   ]
  },
  {
   "cell_type": "code",
   "execution_count": 54,
   "metadata": {},
   "outputs": [],
   "source": [
    "encontrarPontosT = encontrarPontos(teste, xyt, xt, yt)\n",
    "\n",
    "ponto1, ponto2 = encontrarPontosT[0], encontrarPontosT[1]"
   ]
  },
  {
   "cell_type": "code",
   "execution_count": 55,
   "metadata": {},
   "outputs": [],
   "source": [
    "pontosT = localizaPonto(teste, ponto2, ponto1)\n",
    "\n",
    "pontoT1, pontoT2 = pontosT[0], pontosT[1]"
   ]
  },
  {
   "cell_type": "code",
   "execution_count": 56,
   "metadata": {},
   "outputs": [
    {
     "data": {
      "image/png": "[encoded data removed]",
      "text/plain": [
       "<Figure size 432x288 with 1 Axes>"
      ]
     },
     "metadata": {
      "needs_background": "light"
     },
     "output_type": "display_data"
    }
   ],
   "source": [
    "cv2.circle(teste, (pontoT1, pontoT2), 2, (255,0,0))\n",
    "\n",
    "plt.imshow(teste)\n",
    "plt.show()"
   ]
  },
  {
   "cell_type": "code",
   "execution_count": 57,
   "metadata": {},
   "outputs": [],
   "source": [
    "img = cv2.imread(\"1.jpg\")\n",
    "\n",
    "def corCanal(img):\n",
    "\n",
    "    corProcuradaBlueMin  = 110\n",
    "    corProcuradaGreenMin = 140\n",
    "    corProcuradaRedMin   = 160\n",
    "\n",
    "    corProcuradaBlueMax  = 140\n",
    "    corProcuradaGreenMax = 180\n",
    "    corProcuradaRedMax   = 230\n",
    "\n",
    "    altura, largura, canal = img.shape\n",
    "\n",
    "    for x in range(0, largura):\n",
    "\n",
    "        for y in range(0, altura):\n",
    "\n",
    "            b,g,r = img[y, x]\n",
    "\n",
    "            if(b >= corProcuradaBlueMin  and b <= corProcuradaBlueMax   and \n",
    "               g >= corProcuradaGreenMin and g <= corProcuradaGreenMax  and \n",
    "               r >= corProcuradaRedMin   and r <= corProcuradaRedMax):\n",
    "\n",
    "                img[y, x] = [b,g,r]\n",
    "                \n",
    "                a = 1\n",
    "\n",
    "            else:\n",
    "\n",
    "                img[y,x] = 0\n",
    "                \n",
    "                b = 0\n",
    "                \n",
    "    plt.imshow(img)\n",
    "    plt.show\n",
    "                \n",
    "    if(a == 1):\n",
    "        return 1\n",
    "    else:\n",
    "        return 0\n",
    "        "
   ]
  },
  {
   "cell_type": "code",
   "execution_count": 58,
   "metadata": {},
   "outputs": [
    {
     "data": {
      "text/plain": [
       "1"
      ]
     },
     "execution_count": 58,
     "metadata": {},
     "output_type": "execute_result"
    },
    {
     "data": {
      "image/png": "[encoded data removed]",
      "text/plain": [
       "<Figure size 432x288 with 1 Axes>"
      ]
     },
     "metadata": {
      "needs_background": "light"
     },
     "output_type": "display_data"
    }
   ],
   "source": [
    "corCanal(img)"
   ]
  },
  {
   "cell_type": "markdown",
   "metadata": {},
   "source": [
    "•Se o ponto de partida for maior que o centro da imagem, o deslocamentodeve ocorrer da direita para a esquerda.\n",
    "\n",
    "•Se o ponto de partida for menor que o centro da imagem, o deslocamentodeve ocorrer da esquerda para a direita.\n",
    "\n",
    "•O deslocamento sempre deve ocorrer de cima para baixo, exceto quando o limite de margem maximo de y for alcancado.\n",
    "\n",
    "•O deslocamento no eixo x deve acontecer ate alcancar o canto maximo,ou o canto minimo encontrado. Se não o centro da imagem deve ser escolhido como novo ponto de partida.\n",
    "\n",
    "•O  deslocamento  ́e  realizado  enquanto  o  n ́umero  da  busca  for  menor  ou igual a equacao da busca:\n",
    "    Eq3. = (L / 2) + 5, onde L  ́e a lagura da imagem\n",
    "    \n",
    "•Se o a quantidade de busca for maior que Eq3.   ́e considerado o ponto departida como ponto de corte"
   ]
  }
 ],
 "metadata": {
  "kernelspec": {
   "display_name": "Python 3",
   "language": "python",
   "name": "python3"
  },
  "language_info": {
   "codemirror_mode": {
    "name": "ipython",
    "version": 3
   },
   "file_extension": ".py",
   "mimetype": "text/x-python",
   "name": "python",
   "nbconvert_exporter": "python",
   "pygments_lexer": "ipython3",
   "version": "3.8.5"
  }
 },
 "nbformat": 4,
 "nbformat_minor": 4
}
