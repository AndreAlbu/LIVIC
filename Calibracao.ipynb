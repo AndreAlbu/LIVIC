{
 "cells": [
  {
   "cell_type": "code",
   "execution_count": 2,
   "metadata": {},
   "outputs": [],
   "source": [
    "import cv2 as cv\n",
    "import numpy as np"
   ]
  },
  {
   "cell_type": "markdown",
   "metadata": {},
   "source": [
    "## Calibração"
   ]
  },
  {
   "cell_type": "code",
   "execution_count": 5,
   "metadata": {},
   "outputs": [],
   "source": [
    "arquivo = open(\"Calibracao/calibracao_hsv_limao.txt\", \"w\")\n",
    "\n",
    "IMAGEM_CAPTURADA = \"normal9.jpg\"\n",
    "\n",
    "    \n",
    "def nothing(x):\n",
    "    pass\n",
    "\n",
    "image = cv.imread(IMAGEM_CAPTURADA)\n",
    "\n",
    "cv.namedWindow('image')\n",
    "\n",
    "cv.createTrackbar('HMin', 'image', 0, 179, nothing)\n",
    "cv.createTrackbar('SMin', 'image', 0, 255, nothing)\n",
    "cv.createTrackbar('VMin', 'image', 0, 255, nothing)\n",
    "cv.createTrackbar('HMax', 'image', 0, 179, nothing)\n",
    "cv.createTrackbar('SMax', 'image', 0, 255, nothing)\n",
    "cv.createTrackbar('VMax', 'image', 0, 255, nothing)\n",
    "\n",
    "\n",
    "cv.setTrackbarPos('HMax', 'image', 179)\n",
    "cv.setTrackbarPos('SMax', 'image', 255)\n",
    "cv.setTrackbarPos('VMax', 'image', 255)\n",
    "\n",
    "\n",
    "hMin = sMin = vMin = hMax = sMax = vMax = 0\n",
    "phMin = psMin = pvMin = phMax = psMax = pvMax = 0\n",
    "\n",
    "while(1):\n",
    "\n",
    "    hMin = cv.getTrackbarPos('HMin', 'image')\n",
    "    sMin = cv.getTrackbarPos('SMin', 'image')\n",
    "    vMin = cv.getTrackbarPos('VMin', 'image')\n",
    "    hMax = cv.getTrackbarPos('HMax', 'image')\n",
    "    sMax = cv.getTrackbarPos('SMax', 'image')\n",
    "    vMax = cv.getTrackbarPos('VMax', 'image')\n",
    "\n",
    "\n",
    "    lower = np.array([hMin, sMin, vMin])\n",
    "    upper = np.array([hMax, sMax, vMax])\n",
    "\n",
    "\n",
    "    hsv = cv.cvtColor(image, cv.COLOR_BGR2HSV)\n",
    "    mask = cv.inRange(hsv, lower, upper)\n",
    "    result = cv.bitwise_and(image, image, mask=mask)\n",
    "\n",
    "\n",
    "    if((phMin != hMin) | (psMin != sMin) | (pvMin != vMin) | (phMax != hMax) | (psMax != sMax) | (pvMax != vMax) ):\n",
    "\n",
    "        phMin = hMin\n",
    "        psMin = sMin\n",
    "        pvMin = vMin\n",
    "        phMax = hMax\n",
    "        psMax = sMax\n",
    "        pvMax = vMax\n",
    "\n",
    "    # Display result image\n",
    "    cv.imshow('image', result)\n",
    "    if cv.waitKey(10) & 0xFF == ord('q'):\n",
    "        arquivo.write(\"hMin:\" + str(hMin) + \" sMin:\" + str(sMin) + \" vMin:\" + str(vMin) + \" -\" + \" hMax:\" + str(hMax) + \" sMax:\" + str(sMax) + \" vMax:\" + str(vMax))\n",
    "        arquivo.close()\n",
    "        break\n",
    "\n",
    "cv.destroyAllWindows()"
   ]
  },
  {
   "cell_type": "code",
   "execution_count": null,
   "metadata": {},
   "outputs": [],
   "source": []
  }
 ],
 "metadata": {
  "kernelspec": {
   "display_name": "Python 3",
   "language": "python",
   "name": "python3"
  },
  "language_info": {
   "codemirror_mode": {
    "name": "ipython",
    "version": 3
   },
   "file_extension": ".py",
   "mimetype": "text/x-python",
   "name": "python",
   "nbconvert_exporter": "python",
   "pygments_lexer": "ipython3",
   "version": "3.8.5"
  }
 },
 "nbformat": 4,
 "nbformat_minor": 4
}
