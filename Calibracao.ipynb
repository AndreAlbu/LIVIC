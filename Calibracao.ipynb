{
 "cells": [
  {
   "cell_type": "code",
   "execution_count": 13,
   "metadata": {},
   "outputs": [],
   "source": [
    "import cv2 as cv\n",
    "import numpy as np"
   ]
  },
  {
   "cell_type": "markdown",
   "metadata": {},
   "source": [
    "## Calibração"
   ]
  },
  {
   "cell_type": "code",
   "execution_count": 22,
   "metadata": {},
   "outputs": [],
   "source": [
    "idFruta = \"6\"\n",
    "arquivo = open(\"Calibracao/calibracao_hsv_suco.txt\", \"w\")\n",
    "\n",
    "IMAGEM_CAPTURADA = \"Teste/img\" + idFruta + \".jpg\"\n",
    "\n",
    "    \n",
    "def semRetorno(x):\n",
    "    \n",
    "    pass\n",
    "\n",
    "image = cv.imread(IMAGEM_CAPTURADA)\n",
    " \n",
    "\n",
    "cv.namedWindow('Calibracao')\n",
    "\n",
    "cv.createTrackbar('HMin', 'Calibracao', 0, 179, semRetorno)\n",
    "cv.createTrackbar('SMin', 'Calibracao', 0, 255, semRetorno)\n",
    "cv.createTrackbar('VMin', 'Calibracao', 0, 255, semRetorno)\n",
    "cv.createTrackbar('HMax', 'Calibracao', 0, 179, semRetorno)\n",
    "cv.createTrackbar('SMax', 'Calibracao', 0, 255, semRetorno)\n",
    "cv.createTrackbar('VMax', 'Calibracao', 0, 255, semRetorno)\n",
    "\n",
    "\n",
    "cv.setTrackbarPos('HMax', 'Calibracao', 179)\n",
    "cv.setTrackbarPos('SMax', 'Calibracao', 255)\n",
    "cv.setTrackbarPos('VMax', 'Calibracao', 255)\n",
    "\n",
    "\n",
    "hMin = sMin = vMin = hMax = sMax = vMax = 0\n",
    "phMin = psMin = pvMin = phMax = psMax = pvMax = 0\n",
    "\n",
    "while(1):\n",
    "\n",
    "    hMin = cv.getTrackbarPos('HMin', 'Calibracao')\n",
    "    sMin = cv.getTrackbarPos('SMin', 'Calibracao')\n",
    "    vMin = cv.getTrackbarPos('VMin', 'Calibracao')\n",
    "    hMax = cv.getTrackbarPos('HMax', 'Calibracao')\n",
    "    sMax = cv.getTrackbarPos('SMax', 'Calibracao')\n",
    "    vMax = cv.getTrackbarPos('VMax', 'Calibracao')\n",
    "\n",
    "\n",
    "    baixo = np.array([hMin, sMin, vMin])\n",
    "    alto =  np.array([hMax, sMax, vMax])\n",
    "\n",
    "\n",
    "    hsv = cv.cvtColor(image, cv.COLOR_BGR2HSV)\n",
    "    mask = cv.inRange(hsv, baixo, alto)\n",
    "    result = cv.bitwise_and(image, image, mask=mask)\n",
    "\n",
    "\n",
    "    if((phMin != hMin) | (psMin != sMin) | (pvMin != vMin) | (phMax != hMax) | (psMax != sMax) | (pvMax != vMax) ):\n",
    "\n",
    "        phMin = hMin\n",
    "        psMin = sMin\n",
    "        pvMin = vMin\n",
    "        phMax = hMax\n",
    "        psMax = sMax\n",
    "        pvMax = vMax\n",
    "\n",
    "    # Display result image\n",
    "    cv.imshow('Calibracao', result)\n",
    "    if cv.waitKey(10) & 0xFF == ord('s'):\n",
    "        arquivo.write(\"hMin:\" + str(hMin) + \" sMin:\" + str(sMin) + \" vMin:\" + str(vMin) + \" -\" + \" hMax:\" + str(hMax) + \" sMax:\" + str(sMax) + \" vMax:\" + str(vMax))\n",
    "        arquivo.close()\n",
    "        break\n",
    "        \n",
    "    if cv.waitKey(5) & 0xFF == ord('q'):\n",
    "        break\n",
    "\n",
    "cv.destroyAllWindows()"
   ]
  },
  {
   "cell_type": "code",
   "execution_count": null,
   "metadata": {},
   "outputs": [],
   "source": []
  }
 ],
 "metadata": {
  "kernelspec": {
   "display_name": "Python 3",
   "language": "python",
   "name": "python3"
  },
  "language_info": {
   "codemirror_mode": {
    "name": "ipython",
    "version": 3
   },
   "file_extension": ".py",
   "mimetype": "text/x-python",
   "name": "python",
   "nbconvert_exporter": "python",
   "pygments_lexer": "ipython3",
   "version": "3.8.5"
  }
 },
 "nbformat": 4,
 "nbformat_minor": 4
}
